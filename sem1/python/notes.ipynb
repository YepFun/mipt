{
 "cells": [
  {
   "cell_type": "markdown",
   "metadata": {},
   "source": [
    "# MOC\n",
    "Useful links\n",
    "Intro"
   ]
  },
  {
   "cell_type": "markdown",
   "metadata": {},
   "source": [
    "## Useful Links\n",
    "\n",
    "[Jupyter Notebook documentation](https://devpractice.ru/python-lesson-6-work-in-jupyter-notebook/\n",
    ") \n",
    "\n",
    "<details> \n",
    "<summary> Команды </summary>\n",
    "\n",
    "(находясь в командном режиме)\n",
    "\n",
    "- `a` - добавить пустую ячейку сверху\n",
    "\n",
    "- `b` - добавить пустую ячейку снизу\n",
    "- `c` - скопировать текущую ячейку\n",
    "- `v` - вставить скопированную ячейку\n",
    "- `d` - удалить текущую ячейку\n",
    "- `x` - вырезать (удалить и скопировать) текущую ячейку\n",
    "- `m` - изменить тип выбранной ячейки на \"разметка\" \n",
    "- `y` - изменить тип выбранной ячейки на \"код\" \n",
    "- `z` - отменить последнее действие\n",
    "\n",
    "\n",
    "- `Enter` - начать редактировать выбранную ячейку\n",
    "\n",
    "(будучи в режим редактирования ячейки)\n",
    "- `esc` - вернуться в командный режим\n",
    "\n",
    "(будучи в любом режиме)\n",
    "\n",
    "- `Ctrl + Enter` - запустить выбранную ячейку\n",
    "- `Shift + Enter` - запустить выбранную ячейку и выбрать следующую\n",
    "\n",
    "</details>"
   ]
  },
  {
   "cell_type": "markdown",
   "metadata": {},
   "source": [
    "## Intro\n",
    "определение, преобразование типа: `type(2)`, `int('123')`\n",
    "\n",
    "определение функции: \n",
    "``` python\n",
    "   def f(x):\n",
    "    return 2 * x ** 2 + 3 * x + 5\n",
    "```\n",
    "\n",
    "### In & Out \n",
    "ввод: `a = input()` (str), `a = int(input())` (int)\n",
    "\n",
    "считывание чисел через пробел: `a, b = map(int, input().split())`\n",
    "\n",
    "вывод: `print(a, b, c, sep = '', end = '')` \n",
    "\n",
    "\n",
    "запуск программы из терминала:\n",
    "``` bash\n",
    "   python3 hypot.py\n",
    "```\n",
    "\n",
    "\n",
    "\n",
    "### Списки и строки\n",
    "\n",
    "- множество значений может быть задано списком, кортежем, строкой или диапазоном (`range`)\n",
    "    ``` python\n",
    "    a = [1, 2, 3, 4]\n",
    "    for x in a:\n",
    "        print(x)\n",
    "    ```\n",
    "\n",
    "операции над строками:\n",
    "- `A+B` — конкатенация;\n",
    "- `A*n` — повторение ``n`` раз, значение ``n`` должно быть целого типа.\n",
    "\n",
    "- $*$ - это разворачивание элементов итерируемого объекта в параметры функции\n",
    "так можно вывести элементы объекта через пробел:\n",
    "    ``` python\n",
    "    print(*a) \n",
    "    ```\n",
    "\n",
    "\n",
    "range:\n",
    "`range(start, stop, step)`\n",
    "- шаг может быть отрицательным\n",
    "- разворачивать через `*` тоже можно:\n",
    "    ``` python\n",
    "    print(*range(10, 1, 1))\n",
    "    ```\n",
    "\n",
    "len(): `len(v)`\n",
    "\n",
    "append: для списков\n",
    "\n",
    "### Методы строк\n",
    "split: `str.split(sep)`, sep (от слова separator) - разделитель. По умолчанию `sep=' '`\n",
    "\n",
    "join:\n",
    "``` python\n",
    "a = [1, 2, 3, 4, 5]\n",
    "print(\" \".join(a))\n",
    "```\n",
    "\n",
    "replace:\n",
    "``` python\n",
    "s = \"abrakadabra\"\n",
    "print(s.replace(\"a\", \"A\"))\n",
    "print(s.replace(\"a\", \"\"))\n",
    "```\n",
    "\n",
    "count: `s.count(\"b\")`\n",
    "\n",
    "### Срезы\n",
    "slice: `s[start:stop:step]` "
   ]
  },
  {
   "cell_type": "markdown",
   "metadata": {},
   "source": [
    "## Визуализация данных\n",
    "``` python\n",
    "import matplotlib.pyplot as plt\n",
    "```"
   ]
  },
  {
   "cell_type": "code",
   "execution_count": null,
   "metadata": {},
   "outputs": [],
   "source": [
    "import matplotlib.pyplot as plt\n",
    "\n",
    "x = [i for i in range(10)]\n",
    "y = [i**2+5 for i in range(10)]\n",
    "\n",
    "plt.plot(x, y)\n",
    "plt.xlim([0, 10]) # добавляем подписи по оси x\n",
    "plt.title('График зависимости y от x') # добавляем заголовок к графику\n",
    "plt.xlabel('x') # добавляем подписи по оси x\n",
    "plt.ylabel('y') # добавляем подписи по оси y\n",
    "plt.show()"
   ]
  },
  {
   "cell_type": "markdown",
   "metadata": {},
   "source": [
    "Для анализа распределения случайных величин используется гистограмма распределения. Гистограмма часто ещё называют частотным распределением, так как она показывает частоту появления измеренных значений параметров объекта."
   ]
  },
  {
   "cell_type": "code",
   "execution_count": null,
   "metadata": {},
   "outputs": [],
   "source": [
    "import numpy as np \n",
    "  \n",
    "np.random.seed(123) \n",
    "  \n",
    "mu, sigma = 0, 1\n",
    "x = mu + sigma * np.random.randn(10000) \n",
    "  \n",
    "# the histogram of the data \n",
    "n, bins, patches = plt.hist(x, 50, \n",
    "                            density = True,  \n",
    "                            facecolor ='g',  \n",
    "                            alpha = 0.75) \n",
    "  \n",
    "plt.xlabel('x') \n",
    "plt.title('Гистограмма для x') \n",
    "  \n",
    "plt.grid(True) \n",
    "plt.show() "
   ]
  },
  {
   "cell_type": "markdown",
   "metadata": {},
   "source": [
    "Круговая диаграмма подходит для отображения доли от целого, т. е. какую часть от целого составляют компоненты. Рассмотрим для примера круговую диаграмму, которая показывает соотношение между численностью зачисленных на направление \"Прикладные математики и физика\" абитуриентов Физтех-Школ.\n",
    "\n",
    "Источник данных: https://pk.mipt.ru/bachelor/statistics/2023_statistics/index.php"
   ]
  },
  {
   "cell_type": "code",
   "execution_count": null,
   "metadata": {},
   "outputs": [],
   "source": [
    "vals = [11, 99, 189, 87, 69, 36, 29]\n",
    "labels = ['ФПМИ', 'ФРКТ', 'ЛФИ', 'ФАКТ', 'ФЭФМ', 'ФБМФ', 'ИНБИКСТ']\n",
    "plt.pie(vals, labels=labels);"
   ]
  },
  {
   "cell_type": "markdown",
   "metadata": {},
   "source": [
    "Добавим информацию о том, какой процент от всех зачисленных студентов составляют студенты той или иной Физтех-Школы."
   ]
  },
  {
   "cell_type": "code",
   "execution_count": null,
   "metadata": {},
   "outputs": [],
   "source": [
    "vals = [11, 99, 189, 87, 69, 36, 29]\n",
    "labels = ['ФПМИ', 'ФРКТ', 'ЛФИ', 'ФАКТ', 'ФЭФМ', 'ФБМФ', 'ИНБИКСТ']\n",
    "plt.pie(vals, labels=labels, autopct='%.2f');"
   ]
  },
  {
   "cell_type": "markdown",
   "metadata": {},
   "source": []
  },
  {
   "cell_type": "markdown",
   "metadata": {},
   "source": [
    "оператор in\n",
    "    ``` python\n",
    "    print(6 in [1, 2, 3, 4, 5])\n",
    "    False\n",
    "    ```\n",
    "\n",
    "двумерные списки"
   ]
  },
  {
   "cell_type": "code",
   "execution_count": 1,
   "metadata": {},
   "outputs": [
    {
     "name": "stdout",
     "output_type": "stream",
     "text": [
      "[1, 2, 3] [4, 5, 6]\n",
      "[4, 5, 6]\n",
      "4\n",
      "6\n"
     ]
    }
   ],
   "source": [
    "a = [[1, 2, 3], [4, 5, 6]]\n",
    "print(*a)\n",
    "print(a[1])\n",
    "print(a[1][0])\n",
    "print(a[-1][-1])"
   ]
  },
  {
   "cell_type": "markdown",
   "metadata": {},
   "source": [
    "генераторы:"
   ]
  },
  {
   "cell_type": "code",
   "execution_count": 3,
   "metadata": {},
   "outputs": [
    {
     "name": "stdout",
     "output_type": "stream",
     "text": [
      "0 1 2\n",
      "1 2 3\n",
      "2 3 4\n",
      "3 4 5\n"
     ]
    }
   ],
   "source": [
    "a = [[i, i+1, i+2] for i in range(4)]\n",
    "for i in range(len(a)):\n",
    "    print(*a[i])"
   ]
  },
  {
   "cell_type": "markdown",
   "metadata": {},
   "source": [
    "сортировка:\n",
    "\n",
    "`a.sort()` и `sorted(a)`\n",
    "`a.sort()`эквивалентна `a = sorted(a)`"
   ]
  }
 ],
 "metadata": {
  "kernelspec": {
   "display_name": "Python 3",
   "language": "python",
   "name": "python3"
  },
  "language_info": {
   "codemirror_mode": {
    "name": "ipython",
    "version": 3
   },
   "file_extension": ".py",
   "mimetype": "text/x-python",
   "name": "python",
   "nbconvert_exporter": "python",
   "pygments_lexer": "ipython3",
   "version": "3.10.8"
  }
 },
 "nbformat": 4,
 "nbformat_minor": 2
}
