{
 "cells": [
  {
   "cell_type": "code",
   "execution_count": null,
   "id": "abae4bc9",
   "metadata": {},
   "outputs": [],
   "source": [
    "- title: Занятие 2\n",
    "- author: Timofey Khirianov\n",
    "- date: 2024-09-10\n",
    "- slug: 2024_lpr_lab02\n",
    "- ipynb_url: download/2024_lpr_lab02.ipynb"
   ]
  },
  {
   "cell_type": "markdown",
   "id": "5e2169fa",
   "metadata": {
    "id": "5e2169fa"
   },
   "source": [
    "# Лабораторное занятие 2"
   ]
  },
  {
   "cell_type": "markdown",
   "id": "a0a3fdd9",
   "metadata": {
    "id": "7b1d9a77"
   },
   "source": [
    "## Логический тип данных (тип bool)"
   ]
  },
  {
   "cell_type": "markdown",
   "id": "7f54e940",
   "metadata": {
    "id": "e683d3d8"
   },
   "source": [
    "Логический тип данных (`bool`) относится к неизменяемым типам данных и переменная этого типа может принимать только два значения - `True` и `False`. Это еще один базовый тип данных."
   ]
  },
  {
   "cell_type": "code",
   "execution_count": 1,
   "id": "cd11d777",
   "metadata": {
    "id": "655cb743"
   },
   "outputs": [
    {
     "name": "stdout",
     "output_type": "stream",
     "text": [
      "True\n"
     ]
    }
   ],
   "source": [
    "print(1 > 0)"
   ]
  },
  {
   "cell_type": "code",
   "execution_count": 2,
   "id": "0a30760b",
   "metadata": {
    "id": "949f364b"
   },
   "outputs": [
    {
     "name": "stdout",
     "output_type": "stream",
     "text": [
      "True\n"
     ]
    }
   ],
   "source": [
    "a = 1 > 0\n",
    "print(a)"
   ]
  },
  {
   "cell_type": "code",
   "execution_count": 3,
   "id": "a95dcde2",
   "metadata": {
    "id": "a9d556fc"
   },
   "outputs": [
    {
     "name": "stdout",
     "output_type": "stream",
     "text": [
      "False\n"
     ]
    }
   ],
   "source": [
    "b = 1 < 0\n",
    "print(b)"
   ]
  },
  {
   "cell_type": "code",
   "execution_count": 4,
   "id": "6fc91cd8",
   "metadata": {
    "id": "62ffde28"
   },
   "outputs": [
    {
     "name": "stdout",
     "output_type": "stream",
     "text": [
      "5\n",
      "0\n"
     ]
    }
   ],
   "source": [
    "print(a * 5)\n",
    "print(b * 3)"
   ]
  },
  {
   "cell_type": "markdown",
   "id": "0fa37fb8",
   "metadata": {},
   "source": [
    "Логические условия можно объединять с помощью операторов & ('логическое И'), | ('логическое ИЛИ') и ~ ('логическое отрицание')."
   ]
  },
  {
   "cell_type": "code",
   "execution_count": 6,
   "id": "440901fb",
   "metadata": {},
   "outputs": [
    {
     "data": {
      "text/plain": [
       "True"
      ]
     },
     "execution_count": 6,
     "metadata": {},
     "output_type": "execute_result"
    }
   ],
   "source": [
    "a = 1\n",
    "b = 10\n",
    "(a < 5) & (a<=b)"
   ]
  },
  {
   "cell_type": "markdown",
   "id": "259d1a93",
   "metadata": {
    "id": "d33283e9"
   },
   "source": [
    "Именно тип `bool` используется в каскадной конструкции `if elif ... else`:"
   ]
  },
  {
   "cell_type": "code",
   "execution_count": 6,
   "id": "c79cfdae",
   "metadata": {
    "id": "44b85637"
   },
   "outputs": [
    {
     "name": "stdout",
     "output_type": "stream",
     "text": [
      "2\n"
     ]
    }
   ],
   "source": [
    "if 1 > 0:\n",
    "    print(2)"
   ]
  },
  {
   "cell_type": "markdown",
   "id": "774ee149",
   "metadata": {
    "id": "ec682419"
   },
   "source": [
    "Существует приведение типов. Любое число, отличное от нуля с логической точки зрения — `True`, нуль воспринимается как `False`"
   ]
  },
  {
   "cell_type": "code",
   "execution_count": 7,
   "id": "c6894dd2",
   "metadata": {
    "id": "e34f6f82"
   },
   "outputs": [
    {
     "name": "stdout",
     "output_type": "stream",
     "text": [
      "2\n"
     ]
    }
   ],
   "source": [
    "if 5:\n",
    "    print(2)\n",
    "else:\n",
    "    print(\"!\")"
   ]
  },
  {
   "cell_type": "code",
   "execution_count": 8,
   "id": "12ac95e0",
   "metadata": {
    "id": "5ca698d5"
   },
   "outputs": [
    {
     "name": "stdout",
     "output_type": "stream",
     "text": [
      "!\n"
     ]
    }
   ],
   "source": [
    "if 0:\n",
    "    print(4)\n",
    "else:\n",
    "    print(\"!\")"
   ]
  },
  {
   "cell_type": "code",
   "execution_count": 9,
   "id": "640f705c",
   "metadata": {
    "id": "c655994b"
   },
   "outputs": [
    {
     "name": "stdout",
     "output_type": "stream",
     "text": [
      "1\n",
      "2\n",
      "3\n",
      "4\n",
      "5\n"
     ]
    }
   ],
   "source": [
    "for i in [1, 2, 3, 4, 5]:\n",
    "    print(i)"
   ]
  },
  {
   "cell_type": "markdown",
   "id": "3bc0a91d",
   "metadata": {
    "id": "b92e2643"
   },
   "source": [
    "### Оператор `in`\n",
    "Лексема `in` может быть использована не только как часть синтаксической конструкции цикла `for`, но и как *оператор* для проверки принадлежности элемента итерируемому объекту:"
   ]
  },
  {
   "cell_type": "code",
   "execution_count": 10,
   "id": "56516f14",
   "metadata": {
    "id": "27cce21b"
   },
   "outputs": [
    {
     "name": "stdout",
     "output_type": "stream",
     "text": [
      "True\n",
      "False\n"
     ]
    }
   ],
   "source": [
    "print(4 in [1, 2, 3, 4, 5])\n",
    "print(6 in [1, 2, 3, 4, 5])"
   ]
  },
  {
   "cell_type": "code",
   "execution_count": 11,
   "id": "0bee0bea",
   "metadata": {
    "id": "6c1545be"
   },
   "outputs": [
    {
     "name": "stdout",
     "output_type": "stream",
     "text": [
      "True\n",
      "False\n"
     ]
    }
   ],
   "source": [
    "print(4 in range(1, 6))\n",
    "print(6 in range(1, 6))"
   ]
  },
  {
   "cell_type": "code",
   "execution_count": 12,
   "id": "8ef206e9",
   "metadata": {
    "id": "256067bf"
   },
   "outputs": [
    {
     "name": "stdout",
     "output_type": "stream",
     "text": [
      "True\n",
      "False\n"
     ]
    }
   ],
   "source": [
    "print(\"b\" in \"abc\")\n",
    "print(\"B\" in \"abc\")"
   ]
  },
  {
   "cell_type": "markdown",
   "id": "763d8984",
   "metadata": {},
   "source": [
    "## Двумерные списки"
   ]
  },
  {
   "cell_type": "markdown",
   "id": "24411da1",
   "metadata": {
    "id": "24411da1"
   },
   "source": [
    "\"Двумерный список\" — это обычный список, элементами которого являются списки. Такой термин удобен для нас, но для Python нет разницы между одномерными и двумерными списками. В частности, нечто такое вообще будет являться промежуточным: `[1, [2, 3, 4], 5]`\n",
    "\n",
    "Списки элементами, которых являются другие списки называются вложенными. Например, вложенными будут списки `[1, [2, 3, 4], 5]` и `[[1, 2, 3, 4], [5, 6], [7, 8, 9]]`.\n",
    "\n",
    "Создадим список и рассмотрим обращение к элементам."
   ]
  },
  {
   "cell_type": "code",
   "execution_count": 13,
   "id": "bdba992b",
   "metadata": {
    "id": "bdba992b"
   },
   "outputs": [
    {
     "name": "stdout",
     "output_type": "stream",
     "text": [
      "[1, 2, 3] [4, 5, 6]\n",
      "[4, 5, 6]\n",
      "4\n",
      "6\n"
     ]
    }
   ],
   "source": [
    "a = [[1, 2, 3], [4, 5, 6]]\n",
    "print(*a)\n",
    "print(a[1])\n",
    "print(a[1][0])\n",
    "print(a[-1][-1])"
   ]
  },
  {
   "cell_type": "code",
   "execution_count": 14,
   "id": "29994282",
   "metadata": {
    "id": "29994282"
   },
   "outputs": [
    {
     "name": "stdout",
     "output_type": "stream",
     "text": [
      "1 2 3\n",
      "4 5 6\n"
     ]
    }
   ],
   "source": [
    "for i in range(len(a)):\n",
    "    print(*a[i])"
   ]
  },
  {
   "cell_type": "markdown",
   "id": "b88a9954",
   "metadata": {
    "id": "b88a9954"
   },
   "source": [
    "Для создания списка можем использовать генераторы:"
   ]
  },
  {
   "cell_type": "code",
   "execution_count": 15,
   "id": "4a2fb96f",
   "metadata": {
    "id": "4a2fb96f"
   },
   "outputs": [
    {
     "name": "stdout",
     "output_type": "stream",
     "text": [
      "1 2 3\n",
      "1 2 3\n",
      "1 2 3\n",
      "1 2 3\n"
     ]
    }
   ],
   "source": [
    "a = [[1, 2, 3] for i in range(4)]\n",
    "for i in range(len(a)):\n",
    "    print(*a[i])"
   ]
  },
  {
   "cell_type": "code",
   "execution_count": 16,
   "id": "4f287c52",
   "metadata": {
    "id": "4f287c52"
   },
   "outputs": [
    {
     "name": "stdout",
     "output_type": "stream",
     "text": [
      "0 1 2\n",
      "1 2 3\n",
      "2 3 4\n",
      "3 4 5\n"
     ]
    }
   ],
   "source": [
    "a = [[i, i+1, i+2] for i in range(4)]\n",
    "for i in range(len(a)):\n",
    "    print(*a[i])"
   ]
  },
  {
   "cell_type": "code",
   "execution_count": 17,
   "id": "f739ed7d",
   "metadata": {
    "id": "f739ed7d"
   },
   "outputs": [
    {
     "name": "stdout",
     "output_type": "stream",
     "text": [
      "0 1 2\n",
      "1 2 3\n",
      "2 3 4\n",
      "3 4 5\n"
     ]
    }
   ],
   "source": [
    "for x in a:\n",
    "    print(*x)"
   ]
  },
  {
   "cell_type": "code",
   "execution_count": 18,
   "id": "9a48cf74",
   "metadata": {
    "id": "9a48cf74"
   },
   "outputs": [
    {
     "name": "stdout",
     "output_type": "stream",
     "text": [
      "[[0, 1, 2], [1, 2, 3], [2, 3, 4], [3, 4, 5]]\n"
     ]
    }
   ],
   "source": [
    "print(a)"
   ]
  },
  {
   "cell_type": "markdown",
   "id": "11dad1dc",
   "metadata": {
    "id": "11dad1dc"
   },
   "source": [
    "Вот пример создания списка списков при помощи генератора списка, *вложенного* в генератор списка:"
   ]
  },
  {
   "cell_type": "code",
   "execution_count": 19,
   "id": "dead9401",
   "metadata": {
    "id": "dead9401"
   },
   "outputs": [
    {
     "name": "stdout",
     "output_type": "stream",
     "text": [
      "0 1 2 3 4\n",
      "0 1 2 3 4\n",
      "0 1 2 3 4\n",
      "0 1 2 3 4\n",
      "0 1 2 3 4\n"
     ]
    }
   ],
   "source": [
    "a = [[j for j in range(5)] for i in range(5)]\n",
    "for x in a:\n",
    "    print(*x)"
   ]
  },
  {
   "cell_type": "markdown",
   "id": "02e09442",
   "metadata": {
    "id": "02e09442"
   },
   "source": [
    "**Упражнение 1:** создайте двумерный список. Заполните его следующим образом: значение элемента - номер его строки."
   ]
  },
  {
   "cell_type": "code",
   "execution_count": 8,
   "id": "18ede4a8",
   "metadata": {
    "id": "18ede4a8"
   },
   "outputs": [
    {
     "name": "stdout",
     "output_type": "stream",
     "text": [
      "0 0 0 0 0 0 0\n",
      "1 1 1 1 1 1 1\n",
      "2 2 2 2 2 2 2\n",
      "3 3 3 3 3 3 3\n",
      "4 4 4 4 4 4 4\n",
      "5 5 5 5 5 5 5\n",
      "6 6 6 6 6 6 6\n"
     ]
    }
   ],
   "source": [
    "a = [[i for j in range(7)] for i in range(7)]\n",
    "for x in a:\n",
    "    print(*x)"
   ]
  },
  {
   "cell_type": "markdown",
   "id": "16ce173d",
   "metadata": {
    "id": "16ce173d"
   },
   "source": [
    "**Пример.** Напечатаем таблицу умножения $10*10$:"
   ]
  },
  {
   "cell_type": "code",
   "execution_count": 20,
   "id": "9b197df4",
   "metadata": {
    "id": "9b197df4"
   },
   "outputs": [
    {
     "name": "stdout",
     "output_type": "stream",
     "text": [
      "1 2 3 4 5 6 7 8 9 10\n",
      "2 4 6 8 10 12 14 16 18 20\n",
      "3 6 9 12 15 18 21 24 27 30\n",
      "4 8 12 16 20 24 28 32 36 40\n",
      "5 10 15 20 25 30 35 40 45 50\n",
      "6 12 18 24 30 36 42 48 54 60\n",
      "7 14 21 28 35 42 49 56 63 70\n",
      "8 16 24 32 40 48 56 64 72 80\n",
      "9 18 27 36 45 54 63 72 81 90\n",
      "10 20 30 40 50 60 70 80 90 100\n"
     ]
    }
   ],
   "source": [
    "n, m = 10, 10\n",
    "a = [[i * j for j in range(1, m + 1)] for i in range(1, n + 1)]\n",
    "for x in a:\n",
    "    print(*x)"
   ]
  },
  {
   "cell_type": "markdown",
   "id": "50a6cca8",
   "metadata": {
    "id": "f9b894ad"
   },
   "source": [
    "## Сортировка списков"
   ]
  },
  {
   "cell_type": "markdown",
   "id": "609788f1",
   "metadata": {
    "id": "735cd12e"
   },
   "source": [
    "Не углубляясь в алгоритмы, разберем, как можно сортировать списки в Python. Для этого есть функции `sort` и `sorted`. Первая изменяет сортируемый объект, вторая создает новый, а исходный остается:"
   ]
  },
  {
   "cell_type": "code",
   "execution_count": 21,
   "id": "8224a446",
   "metadata": {
    "id": "93cd612d"
   },
   "outputs": [
    {
     "name": "stdout",
     "output_type": "stream",
     "text": [
      "[1, 2, 3, 4, 5]\n"
     ]
    }
   ],
   "source": [
    "a = [3, 1, 5, 4, 2]\n",
    "a.sort()\n",
    "print(a)"
   ]
  },
  {
   "cell_type": "code",
   "execution_count": 22,
   "id": "77ab678f",
   "metadata": {
    "id": "2886bb09"
   },
   "outputs": [
    {
     "name": "stdout",
     "output_type": "stream",
     "text": [
      "[1, 2, 3, 4, 5]\n",
      "[3, 1, 5, 4, 2]\n"
     ]
    }
   ],
   "source": [
    "a = [3, 1, 5, 4, 2]\n",
    "print(sorted(a))\n",
    "print(a)"
   ]
  },
  {
   "cell_type": "markdown",
   "id": "a998b3bb",
   "metadata": {
    "id": "35933e8e"
   },
   "source": [
    "Но можем использовать вторую вместо первой:"
   ]
  },
  {
   "cell_type": "code",
   "execution_count": 23,
   "id": "b4e14b5a",
   "metadata": {
    "id": "953f6807"
   },
   "outputs": [
    {
     "name": "stdout",
     "output_type": "stream",
     "text": [
      "[1, 2, 3, 4, 5]\n"
     ]
    }
   ],
   "source": [
    "a = [3, 1, 5, 4, 2]\n",
    "a = sorted(a)\n",
    "print(a)"
   ]
  },
  {
   "cell_type": "markdown",
   "id": "18d56eff",
   "metadata": {
    "id": "a4b08cda"
   },
   "source": [
    "Сортировка по ключу. key - это второй параметр функции `sorted` и он часто записывает в виде лямбда-функции, которая возвращает функции от объектов, которые мы используем в качестве меры этих объектов для сортировки"
   ]
  },
  {
   "cell_type": "code",
   "execution_count": 24,
   "id": "6b4157c7",
   "metadata": {
    "id": "7acaea5d"
   },
   "outputs": [
    {
     "name": "stdout",
     "output_type": "stream",
     "text": [
      "[5, 4, 3, 2, 1]\n"
     ]
    }
   ],
   "source": [
    "a = [3, 1, 5, 4, 2]\n",
    "a = sorted(a, key = lambda x: -x)\n",
    "print(a)"
   ]
  },
  {
   "cell_type": "code",
   "execution_count": 25,
   "id": "b4e1085a",
   "metadata": {
    "id": "999810ba"
   },
   "outputs": [
    {
     "name": "stdout",
     "output_type": "stream",
     "text": [
      "[[3, 0], [1, 5], [3, 3], [5, 5]]\n"
     ]
    }
   ],
   "source": [
    "a = [[1, 5], [3, 3], [5, 5], [3, 0]]\n",
    "print(sorted(a, key = lambda x: sum(x)))"
   ]
  },
  {
   "cell_type": "code",
   "execution_count": 26,
   "id": "15561e6d",
   "metadata": {
    "id": "5ea4f6f5"
   },
   "outputs": [
    {
     "name": "stdout",
     "output_type": "stream",
     "text": [
      "[[3, 0], [3, 3], [1, 5], [5, 5]]\n"
     ]
    }
   ],
   "source": [
    "a = [[1, 5], [3, 3], [5, 5], [3, 0]]\n",
    "print(sorted(a, key = lambda x: x[0] ** 2 + x[1] ** 2))"
   ]
  },
  {
   "cell_type": "markdown",
   "id": "f57410df",
   "metadata": {
    "id": "36ab77a2"
   },
   "source": [
    "Можем сортировать по нескольким параметрам в порядке убывания приоритета:"
   ]
  },
  {
   "cell_type": "code",
   "execution_count": 27,
   "id": "008da7a7",
   "metadata": {
    "id": "53845f34"
   },
   "outputs": [
    {
     "name": "stdout",
     "output_type": "stream",
     "text": [
      "[[3, 4], [2, 5], [1, 6]]\n"
     ]
    }
   ],
   "source": [
    "a = [[1, 6], [2, 5], [3, 4]]\n",
    "print(sorted(a, key = lambda x: (sum(x), x[1])))"
   ]
  },
  {
   "cell_type": "markdown",
   "id": "1ba037a9",
   "metadata": {
    "id": "7d0ad4e6"
   },
   "source": [
    "`(sum(x), x[1])` - это кортеж. Кортежи похожи на списки, но они неизменяемы (нельзя присваивать по индексу и добавлять элементы)"
   ]
  },
  {
   "cell_type": "code",
   "execution_count": 28,
   "id": "7f39e44d",
   "metadata": {
    "id": "009d6082"
   },
   "outputs": [
    {
     "name": "stdout",
     "output_type": "stream",
     "text": [
      "[1, 3]\n"
     ]
    }
   ],
   "source": [
    "a = [1, 2]\n",
    "a[1] = 3\n",
    "print(a)"
   ]
  },
  {
   "cell_type": "code",
   "execution_count": 29,
   "id": "bdc1c238",
   "metadata": {
    "id": "435c3f6c"
   },
   "outputs": [
    {
     "ename": "TypeError",
     "evalue": "'tuple' object does not support item assignment",
     "output_type": "error",
     "traceback": [
      "\u001b[1;31m---------------------------------------------------------------------------\u001b[0m",
      "\u001b[1;31mTypeError\u001b[0m                                 Traceback (most recent call last)",
      "\u001b[1;32m~\\AppData\\Local\\Temp\\ipykernel_41472\\2988772165.py\u001b[0m in \u001b[0;36m<module>\u001b[1;34m\u001b[0m\n\u001b[0;32m      1\u001b[0m \u001b[0ma\u001b[0m \u001b[1;33m=\u001b[0m \u001b[1;33m(\u001b[0m\u001b[1;36m1\u001b[0m\u001b[1;33m,\u001b[0m \u001b[1;36m2\u001b[0m\u001b[1;33m)\u001b[0m\u001b[1;33m\u001b[0m\u001b[1;33m\u001b[0m\u001b[0m\n\u001b[1;32m----> 2\u001b[1;33m \u001b[0ma\u001b[0m\u001b[1;33m[\u001b[0m\u001b[1;36m1\u001b[0m\u001b[1;33m]\u001b[0m \u001b[1;33m=\u001b[0m \u001b[1;36m3\u001b[0m\u001b[1;33m\u001b[0m\u001b[1;33m\u001b[0m\u001b[0m\n\u001b[0m\u001b[0;32m      3\u001b[0m \u001b[0mprint\u001b[0m\u001b[1;33m(\u001b[0m\u001b[0ma\u001b[0m\u001b[1;33m)\u001b[0m\u001b[1;33m\u001b[0m\u001b[1;33m\u001b[0m\u001b[0m\n",
      "\u001b[1;31mTypeError\u001b[0m: 'tuple' object does not support item assignment"
     ]
    }
   ],
   "source": [
    "a = (1, 2)\n",
    "a[1] = 3\n",
    "print(a)"
   ]
  },
  {
   "cell_type": "code",
   "execution_count": 30,
   "id": "593ae18d",
   "metadata": {
    "id": "96e37c3d"
   },
   "outputs": [
    {
     "name": "stdout",
     "output_type": "stream",
     "text": [
      "[1, 2, 3]\n"
     ]
    }
   ],
   "source": [
    "a = [1, 2]\n",
    "a.append(3)\n",
    "print(a)"
   ]
  },
  {
   "cell_type": "code",
   "execution_count": 31,
   "id": "62c9132a",
   "metadata": {
    "id": "f5a32233"
   },
   "outputs": [
    {
     "ename": "AttributeError",
     "evalue": "'tuple' object has no attribute 'append'",
     "output_type": "error",
     "traceback": [
      "\u001b[1;31m---------------------------------------------------------------------------\u001b[0m",
      "\u001b[1;31mAttributeError\u001b[0m                            Traceback (most recent call last)",
      "\u001b[1;32m~\\AppData\\Local\\Temp\\ipykernel_41472\\2197499556.py\u001b[0m in \u001b[0;36m<module>\u001b[1;34m\u001b[0m\n\u001b[0;32m      1\u001b[0m \u001b[0ma\u001b[0m \u001b[1;33m=\u001b[0m \u001b[1;33m(\u001b[0m\u001b[1;36m1\u001b[0m\u001b[1;33m,\u001b[0m \u001b[1;36m2\u001b[0m\u001b[1;33m)\u001b[0m\u001b[1;33m\u001b[0m\u001b[1;33m\u001b[0m\u001b[0m\n\u001b[1;32m----> 2\u001b[1;33m \u001b[0ma\u001b[0m\u001b[1;33m.\u001b[0m\u001b[0mappend\u001b[0m\u001b[1;33m(\u001b[0m\u001b[1;36m3\u001b[0m\u001b[1;33m)\u001b[0m\u001b[1;33m\u001b[0m\u001b[1;33m\u001b[0m\u001b[0m\n\u001b[0m\u001b[0;32m      3\u001b[0m \u001b[0mprint\u001b[0m\u001b[1;33m(\u001b[0m\u001b[0ma\u001b[0m\u001b[1;33m)\u001b[0m\u001b[1;33m\u001b[0m\u001b[1;33m\u001b[0m\u001b[0m\n",
      "\u001b[1;31mAttributeError\u001b[0m: 'tuple' object has no attribute 'append'"
     ]
    }
   ],
   "source": [
    "a = (1, 2)\n",
    "a.append(3)\n",
    "print(a)"
   ]
  },
  {
   "cell_type": "code",
   "execution_count": 32,
   "id": "763ea7d5",
   "metadata": {
    "id": "1b626f89"
   },
   "outputs": [
    {
     "name": "stdout",
     "output_type": "stream",
     "text": [
      "[3, 4]\n"
     ]
    }
   ],
   "source": [
    "a = [1, 2]\n",
    "a = [3, 4]\n",
    "print(a)"
   ]
  },
  {
   "cell_type": "code",
   "execution_count": 33,
   "id": "d7e9e569",
   "metadata": {
    "id": "0fa7c68a"
   },
   "outputs": [
    {
     "name": "stdout",
     "output_type": "stream",
     "text": [
      "(3, 4)\n"
     ]
    }
   ],
   "source": [
    "a = (1, 2)\n",
    "a = (3, 4)\n",
    "print(a)"
   ]
  },
  {
   "cell_type": "markdown",
   "id": "a8e85e61",
   "metadata": {
    "id": "7f6bc90e"
   },
   "source": [
    "Строки сортируются в лексикографическом порядке:"
   ]
  },
  {
   "cell_type": "code",
   "execution_count": 34,
   "id": "5f1cb4a0",
   "metadata": {
    "id": "7f7b871b"
   },
   "outputs": [
    {
     "name": "stdout",
     "output_type": "stream",
     "text": [
      "['100', '11', '119', '12', '120']\n"
     ]
    }
   ],
   "source": [
    "a = [\"100\", \"11\", \"12\", \"120\", \"119\"]\n",
    "print(sorted(a))"
   ]
  },
  {
   "cell_type": "code",
   "execution_count": 35,
   "id": "517bf7ff",
   "metadata": {
    "id": "7579dcda"
   },
   "outputs": [
    {
     "name": "stdout",
     "output_type": "stream",
     "text": [
      "['11', '12', '100', '119', '120']\n"
     ]
    }
   ],
   "source": [
    "a = [\"100\", \"11\", \"12\", \"120\", \"119\"]\n",
    "print(sorted(a, key = lambda x: int(x)))"
   ]
  },
  {
   "cell_type": "markdown",
   "id": "5fb27cad",
   "metadata": {
    "id": "5fb27cad"
   },
   "source": [
    "## Функции, возвращающие значение\n",
    "Функции — это вспомогательные алгоритмы."
   ]
  },
  {
   "cell_type": "markdown",
   "id": "57f88b90",
   "metadata": {
    "id": "57f88b90"
   },
   "source": [
    "###  Логическое значение как результат работы функции\n",
    "Ниже описаны три аналогичных функции. Прочитайте их тела и объясните почему они работают одинаково.\n",
    "Какая из них вам больше нравится?"
   ]
  },
  {
   "cell_type": "code",
   "execution_count": 36,
   "id": "ef4f059c",
   "metadata": {
    "id": "ef4f059c"
   },
   "outputs": [
    {
     "name": "stdout",
     "output_type": "stream",
     "text": [
      "True\n",
      "False\n"
     ]
    }
   ],
   "source": [
    "def is_positive(x):\n",
    "    if x > 0:\n",
    "        return True\n",
    "    else:\n",
    "        return False\n",
    "\n",
    "print(is_positive(5))\n",
    "print(is_positive(-5))"
   ]
  },
  {
   "cell_type": "code",
   "execution_count": 37,
   "id": "dcdef58f",
   "metadata": {
    "id": "dcdef58f"
   },
   "outputs": [
    {
     "name": "stdout",
     "output_type": "stream",
     "text": [
      "True\n",
      "False\n"
     ]
    }
   ],
   "source": [
    "def is_positive(x):\n",
    "    if x > 0:\n",
    "        return True\n",
    "    return False\n",
    "\n",
    "print(is_positive(5))\n",
    "print(is_positive(-5))"
   ]
  },
  {
   "cell_type": "code",
   "execution_count": 38,
   "id": "b0431287",
   "metadata": {
    "id": "b0431287"
   },
   "outputs": [
    {
     "name": "stdout",
     "output_type": "stream",
     "text": [
      "True\n",
      "False\n"
     ]
    }
   ],
   "source": [
    "def is_positive(x):\n",
    "    return x > 0\n",
    "\n",
    "print(is_positive(5))\n",
    "print(is_positive(-5))"
   ]
  },
  {
   "cell_type": "markdown",
   "id": "2c47bf96",
   "metadata": {
    "id": "2c47bf96"
   },
   "source": [
    "## Анонимные функции (lambda-функции)\n",
    "\n",
    "Лямбда-функции в Python являются анонимными. Это означает, что функция безымянна. Как известно, ключевое слов def используется в Python для определения обычной функции. В свою очередь, ключевое слово  lambda  используется для определения анонимной функции. \n",
    "\n",
    "Лямбда-функции задаются следующим образом:\n",
    "\n",
    "`Lambda аргументы: выражение`\n",
    "\n",
    "Лямбда-функции могут иметь любое количество аргументов, но у каждой может быть только одно выражение. \n",
    "\n"
   ]
  },
  {
   "cell_type": "code",
   "execution_count": 39,
   "id": "9f6dcfb3",
   "metadata": {},
   "outputs": [
    {
     "name": "stdout",
     "output_type": "stream",
     "text": [
      "10\n"
     ]
    }
   ],
   "source": [
    "double = lambda x: x*2\n",
    "print(double(5))"
   ]
  },
  {
   "cell_type": "markdown",
   "id": "79d9b4a9",
   "metadata": {
    "id": "2c47bf96"
   },
   "source": [
    "## Функции как аргументы функций map, reduce и filter\n",
    "Для поэлементной обработки любого итерируемого объекта можно использовать функции `map` и `filter`.\n",
    "\n",
    "Функция map() используется для применения функции к каждому элементу итерируемого объекта (например, списка или словаря) и возврата нового итератора для получения результатов.\n",
    "\n",
    "Синтаксис функция map() следующий:\n",
    "\n",
    "map(function, iterable, [iterable 2, iterable 3, ...])\n",
    "\n",
    "Функция filter() применяет другую функцию к заданному итерируемому объекту (список, строка, словарь и так далее) и проверяет нужно ли сохранить конкретный элемент или нет. Другими словами, она отфильтровывает то, что не проходит и возвращает все остальное.\n",
    "\n",
    "Функция reduce() принимает в качестве аргументов функцию и список. Функция вызывается с помощью лямбда-функции и итерируемого объекта  и возвращается новый уменьшенный результат. Так выполняется повторяющаяся операцию над парами итерируемых объектов. Функция reduce() входит в состав модуля functools."
   ]
  },
  {
   "cell_type": "code",
   "execution_count": 40,
   "id": "f8670a5b",
   "metadata": {
    "id": "f8670a5b"
   },
   "outputs": [
    {
     "name": "stdout",
     "output_type": "stream",
     "text": [
      "['1', '2', '-3', '4', '-5']\n",
      "[1, 2, -3, 4, -5]\n"
     ]
    }
   ],
   "source": [
    "a = \"1 2 -3 4 -5\".split()\n",
    "print(a)\n",
    "a = list(map(int, a))\n",
    "print(a)"
   ]
  },
  {
   "cell_type": "code",
   "execution_count": 41,
   "id": "84d9f84c",
   "metadata": {
    "id": "84d9f84c"
   },
   "outputs": [
    {
     "name": "stdout",
     "output_type": "stream",
     "text": [
      "['1', '2', '-3', '4', '-5']\n",
      "[1.0, 2.0, -3.0, 4.0, -5.0]\n"
     ]
    }
   ],
   "source": [
    "a = \"1 2 -3 4 -5\".split()\n",
    "print(a)\n",
    "a = list(map(float, a))\n",
    "print(a)"
   ]
  },
  {
   "cell_type": "code",
   "execution_count": 42,
   "id": "1bcae2a6",
   "metadata": {
    "id": "1bcae2a6"
   },
   "outputs": [
    {
     "name": "stdout",
     "output_type": "stream",
     "text": [
      "['1', '2', '-3', '4', '-5', '0']\n",
      "[True, True, True, True, True, True]\n"
     ]
    }
   ],
   "source": [
    "a = \"1 2 -3 4 -5 0\".split()\n",
    "print(a)\n",
    "a = list(map(bool, a))\n",
    "print(a)"
   ]
  },
  {
   "cell_type": "code",
   "execution_count": 43,
   "id": "13a826c6",
   "metadata": {
    "id": "13a826c6"
   },
   "outputs": [
    {
     "name": "stdout",
     "output_type": "stream",
     "text": [
      "['1', '2', '-3', '4', '-5', '0']\n",
      "[1, 2, -3, 4, -5, 0]\n",
      "[True, True, True, True, True, False]\n"
     ]
    }
   ],
   "source": [
    "a = \"1 2 -3 4 -5 0\".split()\n",
    "print(a)\n",
    "a = list(map(int, a))\n",
    "print(a)\n",
    "a = list(map(bool, a))\n",
    "print(a)"
   ]
  },
  {
   "cell_type": "markdown",
   "id": "8c28c10b",
   "metadata": {
    "id": "8c28c10b"
   },
   "source": [
    "Как параметр для `map` можно передавать не только стандартные функции, но и свои собственные:"
   ]
  },
  {
   "cell_type": "code",
   "execution_count": 44,
   "id": "80527cdc",
   "metadata": {
    "id": "80527cdc"
   },
   "outputs": [
    {
     "name": "stdout",
     "output_type": "stream",
     "text": [
      "['1', '2', '-3', '4', '-5']\n",
      "['11', '22', '-3-3', '44', '-5-5']\n"
     ]
    }
   ],
   "source": [
    "def my_function(x):\n",
    "    return x * 2\n",
    "\n",
    "a = \"1 2 -3 4 -5\".split()\n",
    "print(a)\n",
    "a = list(map(my_function, a))\n",
    "print(a)"
   ]
  },
  {
   "cell_type": "markdown",
   "id": "7d192c9d",
   "metadata": {
    "id": "7d192c9d"
   },
   "source": [
    "Такие \"одноразовые функции\" загрязняют пространство имён, поэтому есть возможность создать **безымянную функцию** при помощи слова `lambda`. Вычисляясь, лямбда-выражение \"изготавливает\" новую функцию и передаёт её как объект туда, где она нужна — в функцию `map`. Затем она сразу забывается."
   ]
  },
  {
   "cell_type": "code",
   "execution_count": 45,
   "id": "ce922e96",
   "metadata": {
    "id": "ce922e96"
   },
   "outputs": [
    {
     "name": "stdout",
     "output_type": "stream",
     "text": [
      "['1', '2', '-3', '4', '-5']\n",
      "['11', '22', '-3-3', '44', '-5-5']\n"
     ]
    }
   ],
   "source": [
    "a = \"1 2 -3 4 -5\".split()\n",
    "print(a)\n",
    "a = list(map(lambda x: x * 2, a))\n",
    "print(a)"
   ]
  },
  {
   "cell_type": "code",
   "execution_count": 46,
   "id": "959c6572",
   "metadata": {
    "id": "959c6572"
   },
   "outputs": [
    {
     "name": "stdout",
     "output_type": "stream",
     "text": [
      "380\n"
     ]
    }
   ],
   "source": [
    "from functools import reduce\n",
    "\n",
    "current_list = [5, 15, 20, 30, 50, 55, 75, 60, 70]\n",
    "summa = reduce((lambda x, y: x + y), current_list)\n",
    "print(summa)"
   ]
  },
  {
   "cell_type": "code",
   "execution_count": 47,
   "id": "fd2a87e6",
   "metadata": {
    "id": "fd2a87e6"
   },
   "outputs": [
    {
     "name": "stdout",
     "output_type": "stream",
     "text": [
      "[True, True, False, True, False]\n",
      "[1, 2, 4]\n"
     ]
    }
   ],
   "source": [
    "a = [1, 2, -3, 4, -5]\n",
    "b = list(map(lambda x: x > 0, a))\n",
    "c = list(filter(lambda x: x > 0, a))\n",
    "print(b)\n",
    "print(c)"
   ]
  },
  {
   "cell_type": "markdown",
   "id": "7313cf30",
   "metadata": {
    "id": "7313cf30"
   },
   "source": [
    "Можем делать \"сложную\" лямбда-функцию:"
   ]
  },
  {
   "cell_type": "code",
   "execution_count": 48,
   "id": "bf6a53b0",
   "metadata": {
    "id": "bf6a53b0"
   },
   "outputs": [
    {
     "name": "stdout",
     "output_type": "stream",
     "text": [
      "['1', '2', '-3', '4', '-5']\n",
      "[1, 2, 3, 4, 5]\n"
     ]
    }
   ],
   "source": [
    "a = \"1 2 -3 4 -5\".split()\n",
    "print(a)\n",
    "a = list(map(lambda x: abs(int(x)), a))\n",
    "print(a)"
   ]
  },
  {
   "cell_type": "code",
   "execution_count": 49,
   "id": "pzCj2R2Q0y15",
   "metadata": {
    "colab": {
     "base_uri": "https://localhost:8080/"
    },
    "id": "pzCj2R2Q0y15",
    "outputId": "9b92b3d7-937e-4de0-cbfd-5b7ac92e407f"
   },
   "outputs": [
    {
     "name": "stdout",
     "output_type": "stream",
     "text": [
      "Тип объекта out_filter:  <class 'filter'>\n",
      "Отфильтрованный список:  [10, 2, 70, 8, 10]\n"
     ]
    }
   ],
   "source": [
    "# Дан список чисел\n",
    "numbers = [10, 2, 3, 55, 70, 8, 10, 1]\n",
    "\n",
    "# функция, которая проверяет числа\n",
    "def filter_odd_num(in_num):\n",
    "    if(in_num % 2) == 0:\n",
    "        return True\n",
    "    else:\n",
    "        return False\n",
    "\n",
    "# Применение filter() для удаления нечетных чисел\n",
    "out_filter = filter(filter_odd_num, numbers)\n",
    "\n",
    "print(\"Тип объекта out_filter: \", type(out_filter))\n",
    "print(\"Отфильтрованный список: \", list(out_filter))"
   ]
  },
  {
   "cell_type": "markdown",
   "id": "cced2f0d",
   "metadata": {
    "id": "cced2f0d"
   },
   "source": [
    "**Упражнение 2:** считайте список с клавиатуры. С помощью функции `filter` удалите из него те элементы, которые *не* являются квадратами однозначных натуральных чисел."
   ]
  },
  {
   "cell_type": "code",
   "execution_count": null,
   "id": "470b80f3",
   "metadata": {
    "id": "470b80f3"
   },
   "outputs": [],
   "source": []
  },
  {
   "cell_type": "markdown",
   "id": "07f6cc31",
   "metadata": {
    "id": "07f6cc31"
   },
   "source": [
    "Можно использовать `map` для обработки считанного списка. Считываем с помощью функции `input()` объект типа `str`, к нему применяем метод `split()` и получаем `list`, ко всем его элементам функция `map` применяет функцию `int`, а конструктор списка `list` сохраняет результат в список:"
   ]
  },
  {
   "cell_type": "code",
   "execution_count": 50,
   "id": "5880334d",
   "metadata": {
    "id": "5880334d"
   },
   "outputs": [
    {
     "name": "stdout",
     "output_type": "stream",
     "text": [
      "1 2 3\n",
      "[1, 2, 3]\n"
     ]
    }
   ],
   "source": [
    "a = list(map(int, input().split()))\n",
    "print(a)"
   ]
  },
  {
   "cell_type": "code",
   "execution_count": 51,
   "id": "513e32ed",
   "metadata": {
    "id": "513e32ed",
    "scrolled": true
   },
   "outputs": [
    {
     "name": "stdout",
     "output_type": "stream",
     "text": [
      "2 3 1\n",
      "12 1 1\n",
      "1 3\n",
      "4\n",
      "5\n"
     ]
    }
   ],
   "source": [
    "a = [list(map(int, input().split())) for i in range(5)]"
   ]
  },
  {
   "cell_type": "code",
   "execution_count": 52,
   "id": "2a2fa26e",
   "metadata": {
    "id": "2a2fa26e"
   },
   "outputs": [
    {
     "name": "stdout",
     "output_type": "stream",
     "text": [
      "2 3 1\n",
      "12 1 1\n",
      "1 3\n",
      "4\n",
      "5\n"
     ]
    }
   ],
   "source": [
    "for x in a:\n",
    "    print(*x)"
   ]
  },
  {
   "cell_type": "markdown",
   "id": "8be0994e",
   "metadata": {
    "id": "8be0994e"
   },
   "source": [
    "Пример: удалить из матрицы строки с отрицательной суммой"
   ]
  },
  {
   "cell_type": "code",
   "execution_count": 56,
   "id": "4b7291f3",
   "metadata": {
    "id": "4b7291f3"
   },
   "outputs": [
    {
     "name": "stdout",
     "output_type": "stream",
     "text": [
      "5 -2 3\n",
      "-1 2 -3\n",
      "-8 4 5\n"
     ]
    }
   ],
   "source": [
    "a = [[5, -2, 3], [-1, 2, -3], [-8, 4, 5]]\n",
    "for x in a:\n",
    "    print(*x)"
   ]
  },
  {
   "cell_type": "code",
   "execution_count": 57,
   "id": "107988bd",
   "metadata": {
    "id": "107988bd"
   },
   "outputs": [
    {
     "name": "stdout",
     "output_type": "stream",
     "text": [
      "[[5, -2, 3], [-8, 4, 5]]\n"
     ]
    }
   ],
   "source": [
    "a = list(filter(lambda x: sum(x) >= 0, a))\n",
    "print(a)"
   ]
  },
  {
   "cell_type": "code",
   "execution_count": 58,
   "id": "af8eb227",
   "metadata": {
    "id": "af8eb227"
   },
   "outputs": [
    {
     "name": "stdout",
     "output_type": "stream",
     "text": [
      "6 1\n"
     ]
    }
   ],
   "source": [
    "print(sum(a[0]), sum(a[1]))"
   ]
  },
  {
   "cell_type": "markdown",
   "id": "9687cb48",
   "metadata": {
    "id": "9687cb48"
   },
   "source": [
    "И еще примеры:"
   ]
  },
  {
   "cell_type": "code",
   "execution_count": 59,
   "id": "a25dae6f",
   "metadata": {
    "id": "a25dae6f"
   },
   "outputs": [
    {
     "name": "stdout",
     "output_type": "stream",
     "text": [
      "[1, 4, 9, 16, 25]\n"
     ]
    }
   ],
   "source": [
    "a = [1, 2, 3, 4, 5]\n",
    "print(list(map(lambda x: x ** 2, a)))"
   ]
  },
  {
   "cell_type": "code",
   "execution_count": 60,
   "id": "7615424a",
   "metadata": {
    "id": "7615424a"
   },
   "outputs": [
    {
     "name": "stdout",
     "output_type": "stream",
     "text": [
      "[1, 2, 0, 4, 0]\n"
     ]
    }
   ],
   "source": [
    "a = [1, 2, -3, 4, -5]\n",
    "print(list(map(lambda x: x if x >= 0 else 0, a)))"
   ]
  },
  {
   "cell_type": "markdown",
   "id": "3f3d2d44",
   "metadata": {
    "id": "3f3d2d44"
   },
   "source": [
    "## Цикл while. Целочисленная арифметика"
   ]
  },
  {
   "cell_type": "markdown",
   "id": "7feb1357",
   "metadata": {
    "id": "7feb1357"
   },
   "source": [
    "Кроме цикла `for` в Python используется цикл `while`. Например, он удобен, если нужно указать условие выхода через условие типа `bool`"
   ]
  },
  {
   "cell_type": "code",
   "execution_count": 61,
   "id": "123b28fb",
   "metadata": {
    "id": "123b28fb"
   },
   "outputs": [
    {
     "name": "stdout",
     "output_type": "stream",
     "text": [
      "0\n",
      "1\n",
      "4\n",
      "9\n",
      "16\n"
     ]
    }
   ],
   "source": [
    "i = 0\n",
    "while i < 5:\n",
    "    print(i ** 2)\n",
    "    i += 1"
   ]
  },
  {
   "cell_type": "code",
   "execution_count": 62,
   "id": "5ee7473f",
   "metadata": {
    "id": "5ee7473f"
   },
   "outputs": [
    {
     "name": "stdout",
     "output_type": "stream",
     "text": [
      "0\n",
      "1\n",
      "4\n",
      "9\n",
      "16\n"
     ]
    }
   ],
   "source": [
    "for i in range(5):\n",
    "    print(i ** 2)"
   ]
  },
  {
   "cell_type": "markdown",
   "id": "3aa86ea4",
   "metadata": {
    "id": "3aa86ea4"
   },
   "source": [
    "Еще две арифметические операции, которые потребуются в примере ниже: деление с остатком и целочисленное деление."
   ]
  },
  {
   "cell_type": "code",
   "execution_count": 63,
   "id": "69f54375",
   "metadata": {
    "id": "69f54375"
   },
   "outputs": [
    {
     "name": "stdout",
     "output_type": "stream",
     "text": [
      "1\n",
      "5\n"
     ]
    }
   ],
   "source": [
    "print(16 % 3)\n",
    "print(16 // 3)"
   ]
  },
  {
   "cell_type": "markdown",
   "id": "85197c8d",
   "metadata": {
    "id": "85197c8d"
   },
   "source": [
    "С помощью цикла `while` удобно обращаться к отдельным цифрам числа. Например, можно сохранить их в массив:"
   ]
  },
  {
   "cell_type": "code",
   "execution_count": 64,
   "id": "6488a45d",
   "metadata": {
    "id": "6488a45d"
   },
   "outputs": [
    {
     "name": "stdout",
     "output_type": "stream",
     "text": [
      "[5, 4, 3, 2]\n"
     ]
    }
   ],
   "source": [
    "a = []\n",
    "n = 2345\n",
    "while n > 0:\n",
    "    a.append(n % 10)\n",
    "    n = n // 10\n",
    "print(a)"
   ]
  },
  {
   "cell_type": "markdown",
   "id": "73cfba6a",
   "metadata": {
    "id": "73cfba6a"
   },
   "source": [
    "**Упражнение 3:** напишите функцию, которая вычисляет сумму цифр числа, считайте число с клавиатуры и примените эту функцию."
   ]
  },
  {
   "cell_type": "code",
   "execution_count": null,
   "id": "91628376",
   "metadata": {
    "id": "91628376"
   },
   "outputs": [],
   "source": []
  },
  {
   "cell_type": "markdown",
   "id": "7c9dc0fd",
   "metadata": {
    "id": "7c9dc0fd"
   },
   "source": [
    "Можно запустить \"бесконечный цикл\" (он ничем не отличается от обычного). Внутри циклов можно использовать конструкции `break` и `continue`:"
   ]
  },
  {
   "cell_type": "code",
   "execution_count": 66,
   "id": "8794783c",
   "metadata": {
    "id": "8794783c"
   },
   "outputs": [
    {
     "ename": "KeyboardInterrupt",
     "evalue": "Interrupted by user",
     "output_type": "error",
     "traceback": [
      "\u001b[1;31m---------------------------------------------------------------------------\u001b[0m",
      "\u001b[1;31mKeyboardInterrupt\u001b[0m                         Traceback (most recent call last)",
      "\u001b[1;32m~\\AppData\\Local\\Temp\\ipykernel_41472\\3075097021.py\u001b[0m in \u001b[0;36m<module>\u001b[1;34m\u001b[0m\n\u001b[0;32m      1\u001b[0m \u001b[1;32mwhile\u001b[0m \u001b[1;32mTrue\u001b[0m\u001b[1;33m:\u001b[0m\u001b[1;33m\u001b[0m\u001b[1;33m\u001b[0m\u001b[0m\n\u001b[1;32m----> 2\u001b[1;33m     \u001b[0ma\u001b[0m \u001b[1;33m=\u001b[0m \u001b[0mint\u001b[0m\u001b[1;33m(\u001b[0m\u001b[0minput\u001b[0m\u001b[1;33m(\u001b[0m\u001b[1;33m)\u001b[0m\u001b[1;33m)\u001b[0m\u001b[1;33m\u001b[0m\u001b[1;33m\u001b[0m\u001b[0m\n\u001b[0m\u001b[0;32m      3\u001b[0m     \u001b[0mprint\u001b[0m\u001b[1;33m(\u001b[0m\u001b[0ma\u001b[0m\u001b[1;33m)\u001b[0m\u001b[1;33m\u001b[0m\u001b[1;33m\u001b[0m\u001b[0m\n",
      "\u001b[1;32m~\\anaconda\\lib\\site-packages\\ipykernel\\kernelbase.py\u001b[0m in \u001b[0;36mraw_input\u001b[1;34m(self, prompt)\u001b[0m\n\u001b[0;32m   1175\u001b[0m                 \u001b[1;34m\"raw_input was called, but this frontend does not support input requests.\"\u001b[0m\u001b[1;33m\u001b[0m\u001b[1;33m\u001b[0m\u001b[0m\n\u001b[0;32m   1176\u001b[0m             )\n\u001b[1;32m-> 1177\u001b[1;33m         return self._input_request(\n\u001b[0m\u001b[0;32m   1178\u001b[0m             \u001b[0mstr\u001b[0m\u001b[1;33m(\u001b[0m\u001b[0mprompt\u001b[0m\u001b[1;33m)\u001b[0m\u001b[1;33m,\u001b[0m\u001b[1;33m\u001b[0m\u001b[1;33m\u001b[0m\u001b[0m\n\u001b[0;32m   1179\u001b[0m             \u001b[0mself\u001b[0m\u001b[1;33m.\u001b[0m\u001b[0m_parent_ident\u001b[0m\u001b[1;33m[\u001b[0m\u001b[1;34m\"shell\"\u001b[0m\u001b[1;33m]\u001b[0m\u001b[1;33m,\u001b[0m\u001b[1;33m\u001b[0m\u001b[1;33m\u001b[0m\u001b[0m\n",
      "\u001b[1;32m~\\anaconda\\lib\\site-packages\\ipykernel\\kernelbase.py\u001b[0m in \u001b[0;36m_input_request\u001b[1;34m(self, prompt, ident, parent, password)\u001b[0m\n\u001b[0;32m   1217\u001b[0m             \u001b[1;32mexcept\u001b[0m \u001b[0mKeyboardInterrupt\u001b[0m\u001b[1;33m:\u001b[0m\u001b[1;33m\u001b[0m\u001b[1;33m\u001b[0m\u001b[0m\n\u001b[0;32m   1218\u001b[0m                 \u001b[1;31m# re-raise KeyboardInterrupt, to truncate traceback\u001b[0m\u001b[1;33m\u001b[0m\u001b[1;33m\u001b[0m\u001b[0m\n\u001b[1;32m-> 1219\u001b[1;33m                 \u001b[1;32mraise\u001b[0m \u001b[0mKeyboardInterrupt\u001b[0m\u001b[1;33m(\u001b[0m\u001b[1;34m\"Interrupted by user\"\u001b[0m\u001b[1;33m)\u001b[0m \u001b[1;32mfrom\u001b[0m \u001b[1;32mNone\u001b[0m\u001b[1;33m\u001b[0m\u001b[1;33m\u001b[0m\u001b[0m\n\u001b[0m\u001b[0;32m   1220\u001b[0m             \u001b[1;32mexcept\u001b[0m \u001b[0mException\u001b[0m\u001b[1;33m:\u001b[0m\u001b[1;33m\u001b[0m\u001b[1;33m\u001b[0m\u001b[0m\n\u001b[0;32m   1221\u001b[0m                 \u001b[0mself\u001b[0m\u001b[1;33m.\u001b[0m\u001b[0mlog\u001b[0m\u001b[1;33m.\u001b[0m\u001b[0mwarning\u001b[0m\u001b[1;33m(\u001b[0m\u001b[1;34m\"Invalid Message:\"\u001b[0m\u001b[1;33m,\u001b[0m \u001b[0mexc_info\u001b[0m\u001b[1;33m=\u001b[0m\u001b[1;32mTrue\u001b[0m\u001b[1;33m)\u001b[0m\u001b[1;33m\u001b[0m\u001b[1;33m\u001b[0m\u001b[0m\n",
      "\u001b[1;31mKeyboardInterrupt\u001b[0m: Interrupted by user"
     ]
    }
   ],
   "source": [
    "while True:\n",
    "    a = int(input())\n",
    "    print(a)"
   ]
  },
  {
   "cell_type": "markdown",
   "id": "254a4a65",
   "metadata": {
    "id": "254a4a65"
   },
   "source": [
    "Для прерывания работы ячейки можно нажать на квадратик."
   ]
  },
  {
   "cell_type": "code",
   "execution_count": 67,
   "id": "46735686",
   "metadata": {
    "id": "46735686"
   },
   "outputs": [
    {
     "ename": "KeyboardInterrupt",
     "evalue": "Interrupted by user",
     "output_type": "error",
     "traceback": [
      "\u001b[1;31m---------------------------------------------------------------------------\u001b[0m",
      "\u001b[1;31mKeyboardInterrupt\u001b[0m                         Traceback (most recent call last)",
      "\u001b[1;32m~\\AppData\\Local\\Temp\\ipykernel_41472\\2473802587.py\u001b[0m in \u001b[0;36m<module>\u001b[1;34m\u001b[0m\n\u001b[0;32m      1\u001b[0m \u001b[1;32mwhile\u001b[0m \u001b[1;32mTrue\u001b[0m\u001b[1;33m:\u001b[0m\u001b[1;33m\u001b[0m\u001b[1;33m\u001b[0m\u001b[0m\n\u001b[1;32m----> 2\u001b[1;33m     \u001b[0ma\u001b[0m \u001b[1;33m=\u001b[0m \u001b[0mint\u001b[0m\u001b[1;33m(\u001b[0m\u001b[0minput\u001b[0m\u001b[1;33m(\u001b[0m\u001b[1;33m)\u001b[0m\u001b[1;33m)\u001b[0m\u001b[1;33m\u001b[0m\u001b[1;33m\u001b[0m\u001b[0m\n\u001b[0m\u001b[0;32m      3\u001b[0m     \u001b[1;32mif\u001b[0m \u001b[0ma\u001b[0m \u001b[1;33m>\u001b[0m \u001b[1;36m0\u001b[0m\u001b[1;33m:\u001b[0m\u001b[1;33m\u001b[0m\u001b[1;33m\u001b[0m\u001b[0m\n\u001b[0;32m      4\u001b[0m         \u001b[0mprint\u001b[0m\u001b[1;33m(\u001b[0m\u001b[0ma\u001b[0m\u001b[1;33m)\u001b[0m\u001b[1;33m\u001b[0m\u001b[1;33m\u001b[0m\u001b[0m\n\u001b[0;32m      5\u001b[0m     \u001b[1;32melse\u001b[0m\u001b[1;33m:\u001b[0m\u001b[1;33m\u001b[0m\u001b[1;33m\u001b[0m\u001b[0m\n",
      "\u001b[1;32m~\\anaconda\\lib\\site-packages\\ipykernel\\kernelbase.py\u001b[0m in \u001b[0;36mraw_input\u001b[1;34m(self, prompt)\u001b[0m\n\u001b[0;32m   1175\u001b[0m                 \u001b[1;34m\"raw_input was called, but this frontend does not support input requests.\"\u001b[0m\u001b[1;33m\u001b[0m\u001b[1;33m\u001b[0m\u001b[0m\n\u001b[0;32m   1176\u001b[0m             )\n\u001b[1;32m-> 1177\u001b[1;33m         return self._input_request(\n\u001b[0m\u001b[0;32m   1178\u001b[0m             \u001b[0mstr\u001b[0m\u001b[1;33m(\u001b[0m\u001b[0mprompt\u001b[0m\u001b[1;33m)\u001b[0m\u001b[1;33m,\u001b[0m\u001b[1;33m\u001b[0m\u001b[1;33m\u001b[0m\u001b[0m\n\u001b[0;32m   1179\u001b[0m             \u001b[0mself\u001b[0m\u001b[1;33m.\u001b[0m\u001b[0m_parent_ident\u001b[0m\u001b[1;33m[\u001b[0m\u001b[1;34m\"shell\"\u001b[0m\u001b[1;33m]\u001b[0m\u001b[1;33m,\u001b[0m\u001b[1;33m\u001b[0m\u001b[1;33m\u001b[0m\u001b[0m\n",
      "\u001b[1;32m~\\anaconda\\lib\\site-packages\\ipykernel\\kernelbase.py\u001b[0m in \u001b[0;36m_input_request\u001b[1;34m(self, prompt, ident, parent, password)\u001b[0m\n\u001b[0;32m   1217\u001b[0m             \u001b[1;32mexcept\u001b[0m \u001b[0mKeyboardInterrupt\u001b[0m\u001b[1;33m:\u001b[0m\u001b[1;33m\u001b[0m\u001b[1;33m\u001b[0m\u001b[0m\n\u001b[0;32m   1218\u001b[0m                 \u001b[1;31m# re-raise KeyboardInterrupt, to truncate traceback\u001b[0m\u001b[1;33m\u001b[0m\u001b[1;33m\u001b[0m\u001b[0m\n\u001b[1;32m-> 1219\u001b[1;33m                 \u001b[1;32mraise\u001b[0m \u001b[0mKeyboardInterrupt\u001b[0m\u001b[1;33m(\u001b[0m\u001b[1;34m\"Interrupted by user\"\u001b[0m\u001b[1;33m)\u001b[0m \u001b[1;32mfrom\u001b[0m \u001b[1;32mNone\u001b[0m\u001b[1;33m\u001b[0m\u001b[1;33m\u001b[0m\u001b[0m\n\u001b[0m\u001b[0;32m   1220\u001b[0m             \u001b[1;32mexcept\u001b[0m \u001b[0mException\u001b[0m\u001b[1;33m:\u001b[0m\u001b[1;33m\u001b[0m\u001b[1;33m\u001b[0m\u001b[0m\n\u001b[0;32m   1221\u001b[0m                 \u001b[0mself\u001b[0m\u001b[1;33m.\u001b[0m\u001b[0mlog\u001b[0m\u001b[1;33m.\u001b[0m\u001b[0mwarning\u001b[0m\u001b[1;33m(\u001b[0m\u001b[1;34m\"Invalid Message:\"\u001b[0m\u001b[1;33m,\u001b[0m \u001b[0mexc_info\u001b[0m\u001b[1;33m=\u001b[0m\u001b[1;32mTrue\u001b[0m\u001b[1;33m)\u001b[0m\u001b[1;33m\u001b[0m\u001b[1;33m\u001b[0m\u001b[0m\n",
      "\u001b[1;31mKeyboardInterrupt\u001b[0m: Interrupted by user"
     ]
    }
   ],
   "source": [
    "while True:\n",
    "    a = int(input())\n",
    "    if a > 0:\n",
    "        print(a)\n",
    "    else:\n",
    "        break"
   ]
  },
  {
   "cell_type": "code",
   "execution_count": null,
   "id": "e41787fb",
   "metadata": {
    "id": "e41787fb"
   },
   "outputs": [],
   "source": [
    "while True:\n",
    "    a = int(input())\n",
    "    if a > 0:\n",
    "        continue\n",
    "    else:\n",
    "        break"
   ]
  },
  {
   "cell_type": "markdown",
   "id": "5da20e2f",
   "metadata": {
    "id": "5da20e2f"
   },
   "source": [
    "## Работа с файлами"
   ]
  },
  {
   "cell_type": "markdown",
   "id": "84e27eb5",
   "metadata": {
    "id": "84e27eb5"
   },
   "source": [
    "Пример: создайте файл input.txt, скопируйте туда таблицу с числами ниже:\n",
    "\n",
    "    1 2 3\n",
    "    4 5 6\n",
    "    \n",
    "По умолчанию файл открывает в режиме \"чтения\", т. е. внести изменения в него не получится.\n",
    "Есть следующие режимы открытия файлов:\n",
    "\n",
    "'r'\tоткрытие на чтение (является значением по умолчанию).\n",
    "\n",
    "'w'\tоткрытие на запись, содержимое файла удаляется, если файла не существует, создается новый.\n",
    "\n",
    "'x'\tоткрытие на запись, если файла не существует, иначе исключение.\n",
    "\n",
    "'a'\tоткрытие на дозапись, информация добавляется в конец файла.\n",
    "\n",
    "'b'\tоткрытие в двоичном режиме.\n",
    "\n",
    "'+'\tоткрытие на чтение и запись"
   ]
  },
  {
   "cell_type": "code",
   "execution_count": null,
   "id": "1ade4721",
   "metadata": {
    "id": "1ade4721"
   },
   "outputs": [],
   "source": [
    "with open(\"input.txt\", \"r\") as f:\n",
    "    print(f.read())"
   ]
  },
  {
   "cell_type": "code",
   "execution_count": null,
   "id": "17a0572d",
   "metadata": {
    "id": "17a0572d"
   },
   "outputs": [],
   "source": [
    "with open(\"input.txt\", \"r\") as f:\n",
    "    s = f.read()\n",
    "    print(s)\n"
   ]
  },
  {
   "cell_type": "code",
   "execution_count": null,
   "id": "7cb5784c",
   "metadata": {
    "id": "7cb5784c"
   },
   "outputs": [],
   "source": [
    "s, type(s)"
   ]
  },
  {
   "cell_type": "markdown",
   "id": "7e855b29",
   "metadata": {
    "id": "7e855b29"
   },
   "source": [
    "Так выглядит внутреннее представление строки `s`. Когда мы вызываем функцию `print` символ переноса строки `\\n` переводит курсор на новую строку:"
   ]
  },
  {
   "cell_type": "code",
   "execution_count": null,
   "id": "4a95cf02",
   "metadata": {
    "id": "4a95cf02"
   },
   "outputs": [],
   "source": [
    "print(\"1\\n2\")"
   ]
  },
  {
   "cell_type": "code",
   "execution_count": null,
   "id": "248a5e4f",
   "metadata": {
    "id": "248a5e4f"
   },
   "outputs": [],
   "source": [
    "with open(\"input.txt\", \"r\") as f:\n",
    "    a = f.readlines()\n",
    "print(a)"
   ]
  },
  {
   "cell_type": "markdown",
   "id": "45273c92",
   "metadata": {
    "id": "45273c92"
   },
   "source": [
    "Напомним, что `rstrip()` удаляет пробельные элементы из конца строки, в частности, символ переноса строки"
   ]
  },
  {
   "cell_type": "code",
   "execution_count": null,
   "id": "5fcc6108",
   "metadata": {
    "id": "5fcc6108"
   },
   "outputs": [],
   "source": [
    "with open(\"input.txt\", \"r\") as f:\n",
    "    a = f.readlines()\n",
    "    a = list(map(lambda x: x.rstrip(), a))\n",
    "print(a)"
   ]
  },
  {
   "cell_type": "code",
   "execution_count": null,
   "id": "ee6bbeb0",
   "metadata": {
    "id": "ee6bbeb0"
   },
   "outputs": [],
   "source": [
    "with open(\"input.txt\", \"r\") as f:\n",
    "    a = f.readlines()\n",
    "    a = list(map(lambda x: x.rstrip().split(), a))\n",
    "print(a)"
   ]
  },
  {
   "cell_type": "code",
   "execution_count": null,
   "id": "c2625d49",
   "metadata": {
    "id": "c2625d49"
   },
   "outputs": [],
   "source": [
    "with open(\"input.txt\", \"r\") as f:\n",
    "    a = f.readlines()\n",
    "    a = list(map(lambda x: [int(y) for y in x.rstrip().split()], a))\n",
    "print(a)"
   ]
  },
  {
   "cell_type": "markdown",
   "id": "1c2446d3",
   "metadata": {
    "id": "1c2446d3"
   },
   "source": [
    "Или проще:"
   ]
  },
  {
   "cell_type": "code",
   "execution_count": null,
   "id": "dba4f550",
   "metadata": {
    "id": "dba4f550"
   },
   "outputs": [],
   "source": [
    "with open(\"input.txt\", \"r\") as f:\n",
    "    a = f.readlines()\n",
    "    a = list(map(lambda x: x.rstrip().split(), a))\n",
    "    for i in range(len(a)):\n",
    "        for j in range(len(a[i])):\n",
    "            a[i][j] = int(a[i][j])\n",
    "print(a)"
   ]
  },
  {
   "cell_type": "markdown",
   "id": "50cd4323",
   "metadata": {
    "id": "50cd4323"
   },
   "source": [
    "**Пример:** в созданный файл запишем вместо чисел, которые там были, новые числа, равные квадратам исходных"
   ]
  },
  {
   "cell_type": "code",
   "execution_count": null,
   "id": "b38bd1b9",
   "metadata": {
    "id": "b38bd1b9"
   },
   "outputs": [],
   "source": [
    "b = [[a[i][j] ** 2 for j in range(len(a[i]))] for i in range(len(a))]\n",
    "print(b)"
   ]
  },
  {
   "cell_type": "code",
   "execution_count": null,
   "id": "6ca144a2",
   "metadata": {
    "id": "6ca144a2"
   },
   "outputs": [],
   "source": [
    "with open(\"output.txt\", \"w\") as f:\n",
    "    f.writelines([\" \".join(x) for x in b])"
   ]
  },
  {
   "cell_type": "code",
   "execution_count": null,
   "id": "82b7feff",
   "metadata": {
    "id": "82b7feff"
   },
   "outputs": [],
   "source": [
    "b = [[str(x) for x in b[i]] for i in range(len(b))]\n",
    "with open(\"output.txt\", \"w\") as f:\n",
    "    f.writelines([\" \".join(x) for x in b])"
   ]
  },
  {
   "cell_type": "markdown",
   "id": "d7798cae",
   "metadata": {
    "id": "d7798cae"
   },
   "source": [
    "Посмотрите, что записалось в файл. Не совсем то, что нужно, не хватает символов переноса строки"
   ]
  },
  {
   "cell_type": "code",
   "execution_count": null,
   "id": "a95188de",
   "metadata": {
    "id": "a95188de"
   },
   "outputs": [],
   "source": [
    "b = [[str(x) for x in b[i]] for i in range(len(b))]\n",
    "with open(\"output.txt\", \"w\") as f:\n",
    "    f.writelines([\" \".join(x) + \"\\n\" for x in b])"
   ]
  },
  {
   "cell_type": "markdown",
   "id": "648228d0",
   "metadata": {
    "id": "648228d0"
   },
   "source": [
    "Файлы можно открывать не только на запись, но и на дозапись. Обратите внимание, что в предыдущей ячейке предыдущее сожержимое файла стерлось запуском `open`, для этого используем флажок `a` вместо `w`"
   ]
  },
  {
   "cell_type": "code",
   "execution_count": null,
   "id": "acadb95e",
   "metadata": {
    "id": "acadb95e"
   },
   "outputs": [],
   "source": [
    "b = [[str(x) for x in b[i]] for i in range(len(b))]\n",
    "with open(\"output.txt\", \"a\") as f:\n",
    "    f.write(\"done!\")"
   ]
  },
  {
   "cell_type": "markdown",
   "id": "c4583973",
   "metadata": {
    "id": "c4583973"
   },
   "source": [
    "**Пример:** дана таблица результатов олимпиады в формате \"Фамилия Имя Класс Балл\". Нужно скопировать ее в текстовый файл и считать в двумерный массив. Задача - определить фамилию и имя победителя олимпиады. Если их несколько, вывести первого в лексикографическом порядке.\n",
    "\n",
    "Решение: считаем данные в двумерный список. Отсортируем его по убыванию балла и по возрастанию ФИ.\n",
    "\n",
    "Таблица:\n",
    "\n",
    "    Иванов Сергей 9 90\n",
    "    Сергеев Петр 10 85\n",
    "    Петров Иван 11 90"
   ]
  },
  {
   "cell_type": "code",
   "execution_count": null,
   "id": "1295ab84",
   "metadata": {
    "id": "1295ab84"
   },
   "outputs": [],
   "source": [
    "with open(\"input.txt\", \"r\", encoding=\"utf-8\") as f:\n",
    "    a = list(map(lambda x: x.rstrip().split(), f.readlines()))\n",
    "    print(a)"
   ]
  },
  {
   "cell_type": "code",
   "execution_count": null,
   "id": "e102afba",
   "metadata": {
    "id": "e102afba"
   },
   "outputs": [],
   "source": [
    "print(sorted(a, key = lambda x: (-int(x[3]), x[0], x[1])))"
   ]
  },
  {
   "cell_type": "code",
   "execution_count": null,
   "id": "8c29b96e",
   "metadata": {
    "id": "8c29b96e"
   },
   "outputs": [],
   "source": [
    "print(\" \".join(sorted(a, key = lambda x: (-int(x[3]), x[0], x[1]))[0][:2]))"
   ]
  },
  {
   "cell_type": "markdown",
   "id": "c233c0df",
   "metadata": {
    "id": "c233c0df"
   },
   "source": [
    "## Генераторы и отложенные вычисления"
   ]
  },
  {
   "cell_type": "code",
   "execution_count": null,
   "id": "d2c31a60",
   "metadata": {
    "id": "d2c31a60"
   },
   "outputs": [],
   "source": [
    "def foo(x):\n",
    "    print(f\"foo called for {x}\")\n",
    "    return x * 10\n",
    "\n",
    "for x in map(foo, [1, 2, 3]):\n",
    "    print(x)"
   ]
  },
  {
   "cell_type": "code",
   "execution_count": null,
   "id": "471d3f6d",
   "metadata": {
    "id": "471d3f6d"
   },
   "outputs": [],
   "source": [
    "def foo(x):\n",
    "    print(f\"foo called for {x}\")\n",
    "    return x * 10\n",
    "\n",
    "def boo(x):\n",
    "    print(f\"foo called for {x}\")\n",
    "    return x + 1000\n",
    "\n",
    "A = [1, 2, 3]\n",
    "B = map(foo, A)\n",
    "C = map(boo, B)\n",
    "print(\"Iterations start:\")\n",
    "for x in C:\n",
    "    print(x)"
   ]
  },
  {
   "cell_type": "markdown",
   "id": "b9b2c2a5",
   "metadata": {
    "id": "b9b2c2a5"
   },
   "source": [
    "## Итерируемые объекты"
   ]
  },
  {
   "cell_type": "markdown",
   "id": "28ad489b",
   "metadata": {
    "id": "28ad489b"
   },
   "source": [
    "Часто бывает удобно использовать *распаковку* переменных:"
   ]
  },
  {
   "cell_type": "code",
   "execution_count": null,
   "id": "5dd09d97",
   "metadata": {
    "id": "5dd09d97"
   },
   "outputs": [],
   "source": [
    "a, b = 1, 2\n",
    "print(a)\n",
    "print(b)"
   ]
  },
  {
   "cell_type": "code",
   "execution_count": null,
   "id": "f6d9de19",
   "metadata": {
    "id": "f6d9de19"
   },
   "outputs": [],
   "source": [
    "a, b, c = [1, 2, 3]\n",
    "print(a)\n",
    "print(b)\n",
    "print(c)"
   ]
  },
  {
   "cell_type": "code",
   "execution_count": null,
   "id": "8a7bc4c0",
   "metadata": {
    "id": "8a7bc4c0"
   },
   "outputs": [],
   "source": [
    "a, b, c = [1, 2, 3, 4, 5]"
   ]
  },
  {
   "cell_type": "code",
   "execution_count": null,
   "id": "824efb53",
   "metadata": {
    "id": "824efb53"
   },
   "outputs": [],
   "source": [
    "*a, b, c = [1, 2, 3, 4, 5]\n",
    "print(a, b, c)"
   ]
  },
  {
   "cell_type": "code",
   "execution_count": null,
   "id": "6bae667a",
   "metadata": {
    "id": "6bae667a"
   },
   "outputs": [],
   "source": [
    "a, *b, c = [1, 2, 3, 4, 5]\n",
    "print(a, b, c)"
   ]
  },
  {
   "cell_type": "code",
   "execution_count": null,
   "id": "b59f365f",
   "metadata": {
    "id": "b59f365f"
   },
   "outputs": [],
   "source": [
    "a, b, *c = [1, 2, 3, 4, 5]\n",
    "print(a, b, c)"
   ]
  },
  {
   "cell_type": "code",
   "execution_count": null,
   "id": "207af4f8",
   "metadata": {
    "id": "207af4f8"
   },
   "outputs": [],
   "source": [
    "for a, b, c in [(1, 2, 3), (4, 5, 6), (7, 8, 9)]:\n",
    "    print(a, b, c)"
   ]
  },
  {
   "cell_type": "code",
   "execution_count": null,
   "id": "5f2be0ff",
   "metadata": {
    "id": "5f2be0ff"
   },
   "outputs": [],
   "source": [
    "for a, *b in [(1, 2, 3, 4), (10, 20), (100, 200, 300)]:\n",
    "    print(a, b)"
   ]
  },
  {
   "cell_type": "code",
   "execution_count": null,
   "id": "866f2440",
   "metadata": {
    "id": "866f2440"
   },
   "outputs": [],
   "source": [
    "a, (b, c) = [1, (2, 3)]\n",
    "print(a, b, c)"
   ]
  },
  {
   "cell_type": "markdown",
   "id": "765afc8a",
   "metadata": {
    "id": "765afc8a"
   },
   "source": [
    "### enumerate, zip, for с распаковкой"
   ]
  },
  {
   "cell_type": "markdown",
   "id": "5fa29a5a",
   "metadata": {
    "id": "5fa29a5a"
   },
   "source": [
    "В цикле `for` также можно использовать распаковку:"
   ]
  },
  {
   "cell_type": "code",
   "execution_count": null,
   "id": "e3e3cb71",
   "metadata": {
    "id": "e3e3cb71"
   },
   "outputs": [],
   "source": [
    "a = [[1, 2], [3, 4], [5, 6]]\n",
    "for x, y in a:\n",
    "    print(x, y, x + y)"
   ]
  },
  {
   "cell_type": "markdown",
   "id": "2bb6559b",
   "metadata": {
    "id": "2bb6559b"
   },
   "source": [
    "Часто такая распаковка используется не сама по себе, а вместе с использованием удобных функций `zip` и `enumerate`, которые позволяют удобнее работать со списками:"
   ]
  },
  {
   "cell_type": "code",
   "execution_count": null,
   "id": "d35a510a",
   "metadata": {
    "id": "d35a510a"
   },
   "outputs": [],
   "source": [
    "a = [[1, 2, 3], [4, 5, 6], [7, 8, 9], [0, 0, 0]]\n",
    "for i, x in enumerate(a):\n",
    "    print(i, x, sum(x))"
   ]
  },
  {
   "cell_type": "code",
   "execution_count": null,
   "id": "70889557",
   "metadata": {
    "id": "70889557"
   },
   "outputs": [],
   "source": [
    "with open(\"1.txt\", \"w\") as f:\n",
    "    f.writelines([word + \"\\n\" for word in [\"dog\", \"cat\", \"mouse\", \"duck\", \"goose\"]])\n",
    "for line in open(\"1.txt\"):\n",
    "    print(line.strip())"
   ]
  },
  {
   "cell_type": "code",
   "execution_count": null,
   "id": "a34d5858",
   "metadata": {
    "id": "a34d5858",
    "scrolled": true
   },
   "outputs": [],
   "source": [
    "for i, x in enumerate(open(\"1.txt\")):\n",
    "    print(i, x.rstrip())"
   ]
  },
  {
   "cell_type": "code",
   "execution_count": null,
   "id": "5f28d35c",
   "metadata": {
    "id": "5f28d35c"
   },
   "outputs": [],
   "source": [
    "a = [\"ab\", \"cd\", \"ef\"]\n",
    "b = [1, 2, 3]\n",
    "print(list(zip(a, b)))"
   ]
  },
  {
   "cell_type": "code",
   "execution_count": null,
   "id": "8f44fcfd",
   "metadata": {
    "id": "8f44fcfd"
   },
   "outputs": [],
   "source": [
    "for a, b in zip(\"abcde\", range(5)):\n",
    "    print(a, b)"
   ]
  },
  {
   "cell_type": "code",
   "execution_count": null,
   "id": "172870c2",
   "metadata": {
    "id": "172870c2"
   },
   "outputs": [],
   "source": [
    "for a, b in zip(\"abcde\", range(10)):\n",
    "    print(a, b)"
   ]
  },
  {
   "cell_type": "markdown",
   "id": "9b5d74fb",
   "metadata": {
    "id": "9b5d74fb"
   },
   "source": [
    "## Модуль itertools"
   ]
  },
  {
   "cell_type": "markdown",
   "id": "f6fc0268",
   "metadata": {
    "id": "f6fc0268"
   },
   "source": [
    "Для более удобной работы с итерируемыми объектами мы можем использовать библиотеку `itertools`. Для этого нужно ее импортировать:"
   ]
  },
  {
   "cell_type": "code",
   "execution_count": null,
   "id": "40027db1",
   "metadata": {
    "id": "40027db1"
   },
   "outputs": [],
   "source": [
    "import itertools as it\n"
   ]
  },
  {
   "cell_type": "code",
   "execution_count": null,
   "id": "a2e7b20a",
   "metadata": {
    "id": "a2e7b20a"
   },
   "outputs": [],
   "source": [
    "for x, y, z in it.permutations(\"ABC\"):\n",
    "    print(x, y, z, sep='')"
   ]
  },
  {
   "cell_type": "code",
   "execution_count": null,
   "id": "34109753",
   "metadata": {
    "id": "34109753"
   },
   "outputs": [],
   "source": [
    "for x, y, z in it.permutations(\"ABCD\", 3):\n",
    "    print(x, y, z, sep='', end=' ')"
   ]
  },
  {
   "cell_type": "markdown",
   "id": "tqGp_SC84xnQ",
   "metadata": {
    "id": "tqGp_SC84xnQ"
   },
   "source": [
    "Дополнительно по `itertools`можно посмотреть: https://proglib.io/p/iteriruemsya-pravilno-20-priemov-ispolzovaniya-v-python-modulya-itertools-2020-01-03"
   ]
  },
  {
   "cell_type": "markdown",
   "id": "860da4be",
   "metadata": {
    "id": "860da4be"
   },
   "source": [
    "**Упражнение 4:**\n",
    "Вычислите с помощью `it.permutation` $C_{12}^{5}$"
   ]
  },
  {
   "cell_type": "code",
   "execution_count": null,
   "id": "b43dcc6b",
   "metadata": {
    "id": "b43dcc6b"
   },
   "outputs": [],
   "source": []
  },
  {
   "cell_type": "code",
   "execution_count": null,
   "id": "5b112ac3",
   "metadata": {
    "id": "5b112ac3"
   },
   "outputs": [],
   "source": [
    "for x, y in it.combinations(\"ABCDE\", 2):\n",
    "    print(x, y, sep='', end=' ')"
   ]
  },
  {
   "cell_type": "code",
   "execution_count": null,
   "id": "154afae1",
   "metadata": {
    "id": "154afae1"
   },
   "outputs": [],
   "source": [
    "for x, y in it.combinations_with_replacement(\"ABCDE\", 2):\n",
    "    print(x, y, sep='', end=' ')"
   ]
  },
  {
   "cell_type": "code",
   "execution_count": null,
   "id": "9a7ad207",
   "metadata": {
    "id": "9a7ad207"
   },
   "outputs": [],
   "source": [
    "for a in it.chain(\"мама\", \"мыла\", \"раму\"):\n",
    "    print(a, end=' ')"
   ]
  },
  {
   "cell_type": "code",
   "execution_count": null,
   "id": "72c4e409",
   "metadata": {
    "id": "72c4e409"
   },
   "outputs": [],
   "source": [
    "for a in it.chain([5, 4, 3], [3, 4, 5], [[3, 4, 5]]):\n",
    "    print(a, end=' ')"
   ]
  },
  {
   "cell_type": "code",
   "execution_count": null,
   "id": "950eed61",
   "metadata": {
    "id": "950eed61"
   },
   "outputs": [],
   "source": [
    "for n, s in it.product(\"wxyz\", \"ABC\"):\n",
    "    print(n, s)"
   ]
  },
  {
   "cell_type": "markdown",
   "id": "6b925d3f",
   "metadata": {
    "id": "6b925d3f"
   },
   "source": [
    "**Упражнение 5:**\n",
    "Введите 2 списка (координаты вектора `a` и координаты вектора `b`) и найдите скалярное произведение этих векторов, используя `zip` или что-нибудь из `itertools`."
   ]
  },
  {
   "cell_type": "code",
   "execution_count": null,
   "id": "f943dfc1",
   "metadata": {},
   "outputs": [],
   "source": []
  },
  {
   "cell_type": "markdown",
   "id": "jF3uunlt1TyX",
   "metadata": {
    "id": "jF3uunlt1TyX"
   },
   "source": [
    "**Упражнение 6:**\n",
    "Студент составляет 6-буквенные слова из букв A, B, E, F, L, U. Каждую букву можно использовать не более одного раза, при этом в слове нельзя использовать более одной гласной. Сколько различных кодов может составить студент?При решении используйте `itertools`."
   ]
  },
  {
   "cell_type": "code",
   "execution_count": null,
   "id": "48f16726",
   "metadata": {},
   "outputs": [],
   "source": []
  },
  {
   "cell_type": "markdown",
   "id": "PNV0FjF714xt",
   "metadata": {
    "id": "PNV0FjF714xt"
   },
   "source": [
    "**Упражнение 7:**\n",
    "Составьте все возможные пары из элементов строк '123456' и 'abcdef' такие, что первый элемент пары из числовой строки, а второй из текстовой. При решении используйте `itertools`."
   ]
  },
  {
   "cell_type": "code",
   "execution_count": null,
   "id": "86b1c5b1",
   "metadata": {},
   "outputs": [],
   "source": []
  },
  {
   "cell_type": "markdown",
   "id": "9a1218b2",
   "metadata": {
    "id": "PNV0FjF714xt"
   },
   "source": [
    "**Упражнение 8:**\n",
    "Если выписать все натуральные числа меньше 10, кратные 3 или 5, то получим 3, 5, 6 и 9. Сумма этих чисел равна 23.\n",
    "\n",
    "Найдите сумму всех чисел меньше 1000, кратных 3 или 5. Предложите не менее 3-х вариантов решения. "
   ]
  },
  {
   "cell_type": "code",
   "execution_count": null,
   "id": "0ad9485b",
   "metadata": {},
   "outputs": [],
   "source": []
  },
  {
   "cell_type": "markdown",
   "id": "e955ede2",
   "metadata": {
    "id": "PNV0FjF714xt"
   },
   "source": [
    "**Упражнение 9:**\n",
    "Сгенерируйте список используя чисел от -10 до 1000 с шагом 2. Выберите только элементы с чётными индексами. После этого используя функцию reduce и lambda-функцию найдите произведение элементов полученного списка."
   ]
  },
  {
   "cell_type": "code",
   "execution_count": null,
   "id": "15f9b3a7",
   "metadata": {},
   "outputs": [],
   "source": []
  },
  {
   "cell_type": "markdown",
   "id": "0ba595af",
   "metadata": {
    "id": "PNV0FjF714xt"
   },
   "source": [
    "**Упражнение 10:**\n",
    "Сгенерируйте список используя чисел от -10 до 1000 с шагом 2. Выберите только элементы с чётными индексами. После этого используя функцию reduce и lambda-функцию найдите произведение элементов полученного списка."
   ]
  },
  {
   "cell_type": "code",
   "execution_count": null,
   "id": "53dd13c7",
   "metadata": {},
   "outputs": [],
   "source": []
  }
 ],
 "metadata": {
  "colab": {
   "provenance": []
  },
  "kernelspec": {
   "display_name": "Python 3 (ipykernel)",
   "language": "python",
   "name": "python3"
  },
  "language_info": {
   "codemirror_mode": {
    "name": "ipython",
    "version": 3
   },
   "file_extension": ".py",
   "mimetype": "text/x-python",
   "name": "python",
   "nbconvert_exporter": "python",
   "pygments_lexer": "ipython3",
   "version": "3.10.8"
  }
 },
 "nbformat": 4,
 "nbformat_minor": 5
}
