{
 "cells": [
  {
   "cell_type": "code",
   "execution_count": null,
   "metadata": {},
   "outputs": [],
   "source": []
  },
  {
   "cell_type": "markdown",
   "metadata": {},
   "source": [
    "# MOC\n",
    "Useful links\n",
    "Intro"
   ]
  },
  {
   "cell_type": "markdown",
   "metadata": {},
   "source": [
    "## Useful Links\n",
    "\n",
    "[Jupyter Notebook documentation](https://devpractice.ru/python-lesson-6-work-in-jupyter-notebook/\n",
    ") \n",
    "\n",
    "<details> \n",
    "<summary> Команды </summary>\n",
    "\n",
    "(находясь в командном режиме)\n",
    "\n",
    "- `a` - добавить пустую ячейку сверху\n",
    "\n",
    "- `b` - добавить пустую ячейку снизу\n",
    "- `c` - скопировать текущую ячейку\n",
    "- `v` - вставить скопированную ячейку\n",
    "- `d` - удалить текущую ячейку\n",
    "- `x` - вырезать (удалить и скопировать) текущую ячейку\n",
    "- `m` - изменить тип выбранной ячейки на \"разметка\" \n",
    "- `y` - изменить тип выбранной ячейки на \"код\" \n",
    "- `z` - отменить последнее действие\n",
    "\n",
    "\n",
    "- `Enter` - начать редактировать выбранную ячейку\n",
    "\n",
    "(будучи в режим редактирования ячейки)\n",
    "- `esc` - вернуться в командный режим\n",
    "\n",
    "(будучи в любом режиме)\n",
    "\n",
    "- `Ctrl + Enter` - запустить выбранную ячейку\n",
    "- `Shift + Enter` - запустить выбранную ячейку и выбрать следующую\n",
    "\n",
    "</details>"
   ]
  },
  {
   "cell_type": "markdown",
   "metadata": {},
   "source": [
    "## Intro\n",
    "определение, преобразование типа: `type(2)`, `int('123')`\n",
    "\n",
    "определение функции: \n",
    "``` python\n",
    "   def f(x):\n",
    "    return 2 * x ** 2 + 3 * x + 5\n",
    "```\n",
    "\n",
    "### In & Out \n",
    "ввод: `a = input()` (str), `a = int(input())` (int)\n",
    "\n",
    "считывание чисел через пробел: `a, b = map(int, input().split())`\n",
    "\n",
    "вывод: `print(a, b, c, sep = '', end = '')` \n",
    "\n",
    "\n",
    "запуск программы из терминала:\n",
    "``` bash\n",
    "   python3 hypot.py\n",
    "```\n",
    "\n",
    "\n",
    "\n",
    "### Списки и строки\n",
    "\n",
    "- множество значений может быть задано списком, кортежем, строкой или диапазоном (`range`)\n",
    "    ``` python\n",
    "    a = [1, 2, 3, 4]\n",
    "    for x in a:\n",
    "        print(x)\n",
    "    ```\n",
    "\n",
    "операции над строками:\n",
    "- `A+B` — конкатенация;\n",
    "- `A*n` — повторение ``n`` раз, значение ``n`` должно быть целого типа.\n",
    "\n",
    "- $*$ - это разворачивание элементов итерируемого объекта в параметры функции\n",
    "так можно вывести элементы объекта через пробел:\n",
    "    ``` python\n",
    "    print(*a) \n",
    "    ```\n",
    "\n",
    "\n",
    "range:\n",
    "`range(start, stop, step)`\n",
    "- шаг может быть отрицательным\n",
    "- разворачивать через `*` тоже можно:\n",
    "    ``` python\n",
    "    print(*range(10, 1, 1))\n",
    "    ```\n",
    "\n",
    "len(): `len(v)`\n",
    "\n",
    "append: для списков\n",
    "\n",
    "### Методы строк\n",
    "split: `str.split(sep)`, sep (от слова separator) - разделитель. По умолчанию `sep=' '`\n",
    "\n",
    "join:\n",
    "``` python\n",
    "a = [1, 2, 3, 4, 5]\n",
    "print(\" \".join(a))\n",
    "```\n",
    "\n",
    "replace:\n",
    "``` python\n",
    "s = \"abrakadabra\"\n",
    "print(s.replace(\"a\", \"A\"))\n",
    "print(s.replace(\"a\", \"\"))\n",
    "```\n",
    "\n",
    "count: `s.count(\"b\")`\n",
    "\n",
    "### Срезы\n",
    "slice: `s[start:stop:step]` "
   ]
  },
  {
   "cell_type": "markdown",
   "metadata": {},
   "source": [
    "## Визуализация данных\n",
    "``` python\n",
    "import matplotlib.pyplot as plt\n",
    "```"
   ]
  },
  {
   "cell_type": "code",
   "execution_count": 3,
   "metadata": {},
   "outputs": [
    {
     "ename": "ModuleNotFoundError",
     "evalue": "No module named 'matplotlib'",
     "output_type": "error",
     "traceback": [
      "\u001b[0;31m---------------------------------------------------------------------------\u001b[0m",
      "\u001b[0;31mModuleNotFoundError\u001b[0m                       Traceback (most recent call last)",
      "Cell \u001b[0;32mIn [3], line 1\u001b[0m\n\u001b[0;32m----> 1\u001b[0m \u001b[38;5;28;01mimport\u001b[39;00m \u001b[38;5;21;01mmatplotlib\u001b[39;00m\u001b[38;5;21;01m.\u001b[39;00m\u001b[38;5;21;01mpyplot\u001b[39;00m \u001b[38;5;28;01mas\u001b[39;00m \u001b[38;5;21;01mplt\u001b[39;00m\n\u001b[1;32m      3\u001b[0m x \u001b[38;5;241m=\u001b[39m [i \u001b[38;5;28;01mfor\u001b[39;00m i \u001b[38;5;129;01min\u001b[39;00m \u001b[38;5;28mrange\u001b[39m(\u001b[38;5;241m10\u001b[39m)]\n\u001b[1;32m      4\u001b[0m y \u001b[38;5;241m=\u001b[39m [i\u001b[38;5;241m*\u001b[39m\u001b[38;5;241m*\u001b[39m\u001b[38;5;241m2\u001b[39m\u001b[38;5;241m+\u001b[39m\u001b[38;5;241m5\u001b[39m \u001b[38;5;28;01mfor\u001b[39;00m i \u001b[38;5;129;01min\u001b[39;00m \u001b[38;5;28mrange\u001b[39m(\u001b[38;5;241m10\u001b[39m)]\n",
      "\u001b[0;31mModuleNotFoundError\u001b[0m: No module named 'matplotlib'"
     ]
    }
   ],
   "source": [
    "import matplotlib.pyplot as plt\n",
    "\n",
    "x = [i for i in range(10)]\n",
    "y = [i**2+5 for i in range(10)]\n",
    "\n",
    "plt.plot(x, y)\n",
    "plt.xlim([0, 10]) # добавляем подписи по оси x\n",
    "plt.title('График зависимости y от x') # добавляем заголовок к графику\n",
    "plt.xlabel('x') # добавляем подписи по оси x\n",
    "plt.ylabel('y') # добавляем подписи по оси y\n",
    "plt.show()"
   ]
  },
  {
   "cell_type": "markdown",
   "metadata": {},
   "source": [
    "Для анализа распределения случайных величин используется гистограмма распределения. Гистограмма часто ещё называют частотным распределением, так как она показывает частоту появления измеренных значений параметров объекта."
   ]
  },
  {
   "cell_type": "code",
   "execution_count": 4,
   "metadata": {},
   "outputs": [
    {
     "ename": "NameError",
     "evalue": "name 'plt' is not defined",
     "output_type": "error",
     "traceback": [
      "\u001b[0;31m---------------------------------------------------------------------------\u001b[0m",
      "\u001b[0;31mNameError\u001b[0m                                 Traceback (most recent call last)",
      "Cell \u001b[0;32mIn [4], line 9\u001b[0m\n\u001b[1;32m      6\u001b[0m x \u001b[38;5;241m=\u001b[39m mu \u001b[38;5;241m+\u001b[39m sigma \u001b[38;5;241m*\u001b[39m np\u001b[38;5;241m.\u001b[39mrandom\u001b[38;5;241m.\u001b[39mrandn(\u001b[38;5;241m10000\u001b[39m) \n\u001b[1;32m      8\u001b[0m \u001b[38;5;66;03m# the histogram of the data \u001b[39;00m\n\u001b[0;32m----> 9\u001b[0m n, bins, patches \u001b[38;5;241m=\u001b[39m \u001b[43mplt\u001b[49m\u001b[38;5;241m.\u001b[39mhist(x, \u001b[38;5;241m50\u001b[39m, \n\u001b[1;32m     10\u001b[0m                             density \u001b[38;5;241m=\u001b[39m \u001b[38;5;28;01mTrue\u001b[39;00m,  \n\u001b[1;32m     11\u001b[0m                             facecolor \u001b[38;5;241m=\u001b[39m\u001b[38;5;124m'\u001b[39m\u001b[38;5;124mg\u001b[39m\u001b[38;5;124m'\u001b[39m,  \n\u001b[1;32m     12\u001b[0m                             alpha \u001b[38;5;241m=\u001b[39m \u001b[38;5;241m0.75\u001b[39m) \n\u001b[1;32m     14\u001b[0m plt\u001b[38;5;241m.\u001b[39mxlabel(\u001b[38;5;124m'\u001b[39m\u001b[38;5;124mx\u001b[39m\u001b[38;5;124m'\u001b[39m) \n\u001b[1;32m     15\u001b[0m plt\u001b[38;5;241m.\u001b[39mtitle(\u001b[38;5;124m'\u001b[39m\u001b[38;5;124mГистограмма для x\u001b[39m\u001b[38;5;124m'\u001b[39m) \n",
      "\u001b[0;31mNameError\u001b[0m: name 'plt' is not defined"
     ]
    }
   ],
   "source": [
    "import numpy as np \n",
    "  \n",
    "np.random.seed(123) \n",
    "  \n",
    "mu, sigma = 0, 1\n",
    "x = mu + sigma * np.random.randn(10000) \n",
    "  \n",
    "# the histogram of the data \n",
    "n, bins, patches = plt.hist(x, 50, \n",
    "                            density = True,  \n",
    "                            facecolor ='g',  \n",
    "                            alpha = 0.75) \n",
    "  \n",
    "plt.xlabel('x') \n",
    "plt.title('Гистограмма для x') \n",
    "  \n",
    "plt.grid(True) \n",
    "plt.show() "
   ]
  },
  {
   "cell_type": "markdown",
   "metadata": {},
   "source": [
    "Круговая диаграмма подходит для отображения доли от целого, т. е. какую часть от целого составляют компоненты. Рассмотрим для примера круговую диаграмму, которая показывает соотношение между численностью зачисленных на направление \"Прикладные математики и физика\" абитуриентов Физтех-Школ.\n",
    "\n",
    "Источник данных: https://pk.mipt.ru/bachelor/statistics/2023_statistics/index.php"
   ]
  },
  {
   "cell_type": "code",
   "execution_count": 5,
   "metadata": {},
   "outputs": [
    {
     "ename": "NameError",
     "evalue": "name 'plt' is not defined",
     "output_type": "error",
     "traceback": [
      "\u001b[0;31m---------------------------------------------------------------------------\u001b[0m",
      "\u001b[0;31mNameError\u001b[0m                                 Traceback (most recent call last)",
      "Cell \u001b[0;32mIn [5], line 3\u001b[0m\n\u001b[1;32m      1\u001b[0m vals \u001b[38;5;241m=\u001b[39m [\u001b[38;5;241m11\u001b[39m, \u001b[38;5;241m99\u001b[39m, \u001b[38;5;241m189\u001b[39m, \u001b[38;5;241m87\u001b[39m, \u001b[38;5;241m69\u001b[39m, \u001b[38;5;241m36\u001b[39m, \u001b[38;5;241m29\u001b[39m]\n\u001b[1;32m      2\u001b[0m labels \u001b[38;5;241m=\u001b[39m [\u001b[38;5;124m'\u001b[39m\u001b[38;5;124mФПМИ\u001b[39m\u001b[38;5;124m'\u001b[39m, \u001b[38;5;124m'\u001b[39m\u001b[38;5;124mФРКТ\u001b[39m\u001b[38;5;124m'\u001b[39m, \u001b[38;5;124m'\u001b[39m\u001b[38;5;124mЛФИ\u001b[39m\u001b[38;5;124m'\u001b[39m, \u001b[38;5;124m'\u001b[39m\u001b[38;5;124mФАКТ\u001b[39m\u001b[38;5;124m'\u001b[39m, \u001b[38;5;124m'\u001b[39m\u001b[38;5;124mФЭФМ\u001b[39m\u001b[38;5;124m'\u001b[39m, \u001b[38;5;124m'\u001b[39m\u001b[38;5;124mФБМФ\u001b[39m\u001b[38;5;124m'\u001b[39m, \u001b[38;5;124m'\u001b[39m\u001b[38;5;124mИНБИКСТ\u001b[39m\u001b[38;5;124m'\u001b[39m]\n\u001b[0;32m----> 3\u001b[0m \u001b[43mplt\u001b[49m\u001b[38;5;241m.\u001b[39mpie(vals, labels\u001b[38;5;241m=\u001b[39mlabels)\n",
      "\u001b[0;31mNameError\u001b[0m: name 'plt' is not defined"
     ]
    }
   ],
   "source": [
    "vals = [11, 99, 189, 87, 69, 36, 29]\n",
    "labels = ['ФПМИ', 'ФРКТ', 'ЛФИ', 'ФАКТ', 'ФЭФМ', 'ФБМФ', 'ИНБИКСТ']\n",
    "plt.pie(vals, labels=labels);"
   ]
  },
  {
   "cell_type": "markdown",
   "metadata": {},
   "source": [
    "Добавим информацию о том, какой процент от всех зачисленных студентов составляют студенты той или иной Физтех-Школы."
   ]
  },
  {
   "cell_type": "markdown",
   "metadata": {},
   "source": [
    "vals = [11, 99, 189, 87, 69, 36, 29]\n",
    "labels = ['ФПМИ', 'ФРКТ', 'ЛФИ', 'ФАКТ', 'ФЭФМ', 'ФБМФ', 'ИНБИКСТ']\n",
    "plt.pie(vals, labels=labels, autopct='%.2f');"
   ]
  }
 ],
 "metadata": {
  "kernelspec": {
   "display_name": "Python 3",
   "language": "python",
   "name": "python3"
  },
  "language_info": {
   "codemirror_mode": {
    "name": "ipython",
    "version": 3
   },
   "file_extension": ".py",
   "mimetype": "text/x-python",
   "name": "python",
   "nbconvert_exporter": "python",
   "pygments_lexer": "ipython3",
   "version": "3.10.8"
  }
 },
 "nbformat": 4,
 "nbformat_minor": 2
}
